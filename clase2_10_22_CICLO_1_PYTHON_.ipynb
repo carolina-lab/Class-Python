{
  "nbformat": 4,
  "nbformat_minor": 0,
  "metadata": {
    "colab": {
      "provenance": [],
      "authorship_tag": "ABX9TyOiuooUDCfCSaSXfYzI72NI",
      "include_colab_link": true
    },
    "kernelspec": {
      "name": "python3",
      "display_name": "Python 3"
    },
    "language_info": {
      "name": "python"
    }
  },
  "cells": [
    {
      "cell_type": "markdown",
      "metadata": {
        "id": "view-in-github",
        "colab_type": "text"
      },
      "source": [
        "<a href=\"https://colab.research.google.com/github/carolina-lab/Class-Python/blob/main/clase2_10_22_CICLO_1_PYTHON_.ipynb\" target=\"_parent\"><img src=\"https://colab.research.google.com/assets/colab-badge.svg\" alt=\"Open In Colab\"/></a>"
      ]
    },
    {
      "cell_type": "code",
      "execution_count": null,
      "metadata": {
        "id": "NDBToX-UGiDo"
      },
      "outputs": [],
      "source": []
    },
    {
      "cell_type": "markdown",
      "source": [
        "##FUNCIONES\n",
        "\n",
        "Una porcion de codigo que se encarga de realizar una o varias tareas especificas, las cuales pueden recibir o no parametros de entrada y devolver o no resultados. "
      ],
      "metadata": {
        "id": "1ZD5qyHTHT9s"
      }
    },
    {
      "cell_type": "code",
      "source": [
        "def ejemplo_saludo():\n",
        "  nombre = input(\"Por favor ingrese su nombre: \")\n",
        "  print(f\"Hola {nombre}, bienvenido al curso de Mision Tic\")"
      ],
      "metadata": {
        "id": "qLkXZlwsHhe6"
      },
      "execution_count": 6,
      "outputs": []
    },
    {
      "cell_type": "code",
      "source": [
        "ejemplo_saludo()"
      ],
      "metadata": {
        "colab": {
          "base_uri": "https://localhost:8080/"
        },
        "id": "-IB5HRbUHhXS",
        "outputId": "2371aa29-04fc-4d20-c36c-e82918d28826"
      },
      "execution_count": 7,
      "outputs": [
        {
          "output_type": "stream",
          "name": "stdout",
          "text": [
            "Por favor ingrese su nombre: Caro\n",
            "Hola Caro, bienvenido al curso de Mision Tic\n"
          ]
        }
      ]
    },
    {
      "cell_type": "code",
      "source": [
        "ejemplo_saludo()"
      ],
      "metadata": {
        "colab": {
          "base_uri": "https://localhost:8080/"
        },
        "id": "MS5DhlFkIQyg",
        "outputId": "51938624-b682-4bf1-912d-28cf8006a0e1"
      },
      "execution_count": 8,
      "outputs": [
        {
          "output_type": "stream",
          "name": "stdout",
          "text": [
            "Por favor ingrese su nombre: Migue\n",
            "Hola Migue, bienvenido al curso de Mision Tic\n"
          ]
        }
      ]
    },
    {
      "cell_type": "markdown",
      "source": [
        "##PARAMETRO\n",
        "\n",
        "Es una variable o un valor que se le va enviar a la funcion para que esta pueda realizas sus tareas"
      ],
      "metadata": {
        "id": "NVIu-1-kIYXw"
      }
    },
    {
      "cell_type": "code",
      "source": [
        "def sumar(num1, num2):\n",
        "  nombre_auxiliar = \"Caro\"\n",
        "  resultado = num1 + num2\n",
        "  return resultado "
      ],
      "metadata": {
        "id": "4GXCogG7IjzY"
      },
      "execution_count": 3,
      "outputs": []
    },
    {
      "cell_type": "code",
      "source": [
        "res = sumar(1, 10)\n",
        "print(res)"
      ],
      "metadata": {
        "colab": {
          "base_uri": "https://localhost:8080/"
        },
        "id": "-SHGpugdIt_n",
        "outputId": "f2342294-2363-46a5-b98a-cf0cd8fda35b"
      },
      "execution_count": 5,
      "outputs": [
        {
          "output_type": "stream",
          "name": "stdout",
          "text": [
            "11\n"
          ]
        }
      ]
    },
    {
      "cell_type": "code",
      "source": [
        "nombre_2 = \"Pepito\""
      ],
      "metadata": {
        "id": "BNSSxQeJKAdQ"
      },
      "execution_count": null,
      "outputs": []
    },
    {
      "cell_type": "code",
      "source": [
        "print(nombre_2)"
      ],
      "metadata": {
        "id": "SjF9mM6HKE2t"
      },
      "execution_count": null,
      "outputs": []
    },
    {
      "cell_type": "code",
      "source": [
        "def nombres():\n",
        "  nombre_3 =\"Juanita\"\n",
        "  print(nombre_3)"
      ],
      "metadata": {
        "id": "jXTjHjlPKHly"
      },
      "execution_count": 10,
      "outputs": []
    },
    {
      "cell_type": "code",
      "source": [
        "nombres()"
      ],
      "metadata": {
        "colab": {
          "base_uri": "https://localhost:8080/"
        },
        "id": "KsSRTwtUKQIW",
        "outputId": "177acc87-c1da-4e21-945d-c1b41f77884b"
      },
      "execution_count": 11,
      "outputs": [
        {
          "output_type": "stream",
          "name": "stdout",
          "text": [
            "Juanita\n"
          ]
        }
      ]
    },
    {
      "cell_type": "markdown",
      "source": [
        "\n",
        "\n",
        "*   Todas las partes del codigo van a taner acceso a las variables Globales, pero solamente las funciones van a tener acceso a sus variables locales. \n",
        "\n",
        "\n"
      ],
      "metadata": {
        "id": "7O9SZYVELVd9"
      }
    },
    {
      "cell_type": "code",
      "source": [
        "variable_1 = 10 #variables globales\n",
        "variable_2 = 20 #variables globales\n",
        "\n",
        "def funcion():\n",
        "  variable_3 = 30  #variable locales\n",
        "  print(variable_3)\n",
        "  print(variable_1)\n",
        "  # Return variable_3\n",
        "  return variable_3\n",
        "\n",
        "variable_4 = funcion()\n",
        "print(variable_4)\n",
        "print(variable_1)"
      ],
      "metadata": {
        "colab": {
          "base_uri": "https://localhost:8080/"
        },
        "id": "TeOwq_7CKP8x",
        "outputId": "e6c14c3b-1a7e-4976-d728-d6477bc9d83c"
      },
      "execution_count": 16,
      "outputs": [
        {
          "output_type": "stream",
          "name": "stdout",
          "text": [
            "30\n",
            "10\n",
            "30\n",
            "10\n"
          ]
        }
      ]
    },
    {
      "cell_type": "code",
      "source": [
        "def incremento_porc():\n",
        "  valor = 25\n",
        "  porc_imcrement = 0.5\n",
        "  valor_incrementado = int(valor + valor*porc_imcrement)\n",
        "  print(f\"El valor incrementado es : {valor_incrementado}\")\n",
        "  return valor_incrementado"
      ],
      "metadata": {
        "id": "IOEiL5c8NMCM"
      },
      "execution_count": 28,
      "outputs": []
    },
    {
      "cell_type": "code",
      "source": [
        "valor_inc = incremento_porc()"
      ],
      "metadata": {
        "colab": {
          "base_uri": "https://localhost:8080/"
        },
        "id": "pQQ7FdNlOasj",
        "outputId": "80f013b7-87a8-421c-8e1f-599a6efe930c"
      },
      "execution_count": 30,
      "outputs": [
        {
          "output_type": "stream",
          "name": "stdout",
          "text": [
            "El valor incrementado es : 37\n"
          ]
        }
      ]
    },
    {
      "cell_type": "code",
      "source": [
        "valor_inc + 1000"
      ],
      "metadata": {
        "colab": {
          "base_uri": "https://localhost:8080/"
        },
        "id": "7l0TEnu2OpT8",
        "outputId": "0968f9a1-dbd3-456f-f607-5e0abaf062fd"
      },
      "execution_count": 31,
      "outputs": [
        {
          "output_type": "execute_result",
          "data": {
            "text/plain": [
              "1037"
            ]
          },
          "metadata": {},
          "execution_count": 31
        }
      ]
    },
    {
      "cell_type": "code",
      "source": [
        "def incremento_porc2(valor_x):\n",
        "  porc_imcrement = 0.5\n",
        "  valor_incrementado = valor_x + valor_x*porc_imcrement\n",
        "  print(f\"El incremento de {valor_x} es {valor_incrementado}\")"
      ],
      "metadata": {
        "id": "1iq-sMRBPYhy"
      },
      "execution_count": 37,
      "outputs": []
    },
    {
      "cell_type": "code",
      "source": [
        "incremento_porc2(200)"
      ],
      "metadata": {
        "colab": {
          "base_uri": "https://localhost:8080/"
        },
        "id": "JzrkDyBXQRpH",
        "outputId": "cc6bae64-bf9a-4c96-8534-dc8ca65da03a"
      },
      "execution_count": 38,
      "outputs": [
        {
          "output_type": "stream",
          "name": "stdout",
          "text": [
            "El incremento de 200 es 300.0\n"
          ]
        }
      ]
    },
    {
      "cell_type": "code",
      "source": [
        "def incremento_porc_3(valor, porcentaje):\n",
        "  valor_incrementado = valor + valor*porcentaje\n",
        "  print(f\"El incremento de {valor} es un {porcentaje} porcentaje es {valor_incrementado}\")"
      ],
      "metadata": {
        "id": "djT6kjt5Qqdv"
      },
      "execution_count": 40,
      "outputs": []
    },
    {
      "cell_type": "code",
      "source": [
        "incremento_porc_3(10, 1000)\n"
      ],
      "metadata": {
        "colab": {
          "base_uri": "https://localhost:8080/"
        },
        "id": "DEndoZSwRQg5",
        "outputId": "15d1648a-4724-486d-c4be-6ad290a48643"
      },
      "execution_count": 41,
      "outputs": [
        {
          "output_type": "stream",
          "name": "stdout",
          "text": [
            "El incremento de 10 es un 1000 porcentaje es 10010\n"
          ]
        }
      ]
    },
    {
      "cell_type": "code",
      "source": [
        "def incremento_porc4():\n",
        "  valor = int(input(\"Cual es el valor que desea incrementar?: \"))\n",
        "  porc = float(int(input(\"Cual es el valor que desea el porcentaje?: \")))\n",
        "  valor_incrementado = valor + valor*porc\n",
        "  print(f\"El incremento de {valor} es un {porc} porcentaje es {valor_incrementado}\")"
      ],
      "metadata": {
        "id": "JpAunwrrRUxJ"
      },
      "execution_count": 48,
      "outputs": []
    },
    {
      "cell_type": "code",
      "source": [
        "incremento_porc4()"
      ],
      "metadata": {
        "colab": {
          "base_uri": "https://localhost:8080/"
        },
        "id": "1bRXXAhQSBEM",
        "outputId": "58902ecb-7617-4cc3-fc7c-a49ea39e8697"
      },
      "execution_count": 49,
      "outputs": [
        {
          "output_type": "stream",
          "name": "stdout",
          "text": [
            "Cual es el valor que desea incrementar?: 4\n",
            "Cual es el valor que desea el porcentaje?: 1\n",
            "El incremento de 4 es un 1.0 porcentaje es 8.0\n"
          ]
        }
      ]
    },
    {
      "cell_type": "code",
      "source": [
        "#Haremos una funcion sencilla que tiene parametros \n",
        "def valor_con_iva(precio_sin_iva):\n",
        "  valor_total = precio_sin_iva + precio_sin_iva * 0.19\n",
        "  mensaje = print(f\"El precio con Iva es {valor_total:,}\")\n",
        "  return mensaje"
      ],
      "metadata": {
        "id": "-4_Gpb9SSbJ3"
      },
      "execution_count": 51,
      "outputs": []
    },
    {
      "cell_type": "code",
      "source": [
        "precio_sin_iva = int(input(\"Ingresa el precio del articulo: \"))\n",
        "print(f\"El precio con IVA es {precio_sin_iva}\")"
      ],
      "metadata": {
        "colab": {
          "base_uri": "https://localhost:8080/"
        },
        "id": "dKa6d63uS4io",
        "outputId": "fc35c8ef-585c-4b4d-82b6-dc395a547fdb"
      },
      "execution_count": 52,
      "outputs": [
        {
          "output_type": "stream",
          "name": "stdout",
          "text": [
            "Ingresa el precio del articulo: 5555\n",
            "El precio con IVA es 5555\n"
          ]
        }
      ]
    },
    {
      "cell_type": "markdown",
      "source": [
        "##CONDICIONALES\n"
      ],
      "metadata": {
        "id": "sgIigpoKVO1a"
      }
    },
    {
      "cell_type": "code",
      "source": [
        "num1 = 10\n",
        "num2 = 15"
      ],
      "metadata": {
        "id": "-Edfd0tzVfpj"
      },
      "execution_count": 53,
      "outputs": []
    },
    {
      "cell_type": "code",
      "source": [
        "num1 == num2"
      ],
      "metadata": {
        "colab": {
          "base_uri": "https://localhost:8080/"
        },
        "id": "077nXUgsVkBS",
        "outputId": "3ac39f37-f6e3-4121-f8cb-e7bc6f890162"
      },
      "execution_count": 54,
      "outputs": [
        {
          "output_type": "execute_result",
          "data": {
            "text/plain": [
              "False"
            ]
          },
          "metadata": {},
          "execution_count": 54
        }
      ]
    },
    {
      "cell_type": "code",
      "source": [
        "num1 != num2"
      ],
      "metadata": {
        "colab": {
          "base_uri": "https://localhost:8080/"
        },
        "id": "puTnVFRSVmxJ",
        "outputId": "c734fdde-8322-475f-b81d-5f1869459205"
      },
      "execution_count": 55,
      "outputs": [
        {
          "output_type": "execute_result",
          "data": {
            "text/plain": [
              "True"
            ]
          },
          "metadata": {},
          "execution_count": 55
        }
      ]
    },
    {
      "cell_type": "code",
      "source": [
        "num1 > num2"
      ],
      "metadata": {
        "colab": {
          "base_uri": "https://localhost:8080/"
        },
        "id": "hNqs8iU-VpAX",
        "outputId": "58dc325a-456e-439c-c8c8-eec3d9208cec"
      },
      "execution_count": 56,
      "outputs": [
        {
          "output_type": "execute_result",
          "data": {
            "text/plain": [
              "False"
            ]
          },
          "metadata": {},
          "execution_count": 56
        }
      ]
    },
    {
      "cell_type": "code",
      "source": [
        "num1 >= num2"
      ],
      "metadata": {
        "colab": {
          "base_uri": "https://localhost:8080/"
        },
        "id": "eBRwWC50Vrnz",
        "outputId": "8cb86c2b-a3ba-4579-be97-14e65f6860f7"
      },
      "execution_count": 57,
      "outputs": [
        {
          "output_type": "execute_result",
          "data": {
            "text/plain": [
              "False"
            ]
          },
          "metadata": {},
          "execution_count": 57
        }
      ]
    },
    {
      "cell_type": "code",
      "source": [
        "num1 = 10\n",
        "num2 = 10\n",
        "\n",
        "if num1 > num2:\n",
        "  print(f\"El numero {num1} es mayor que el numero {num2}\")\n",
        "elif num1 == num2:\n",
        "  print(f\"El numero {num1} es igual al numero {num2}\")\n",
        "else:\n",
        "  print(f\"El numero {num1} es menor que {num2}\")"
      ],
      "metadata": {
        "colab": {
          "base_uri": "https://localhost:8080/"
        },
        "id": "1d89AWlTWEq7",
        "outputId": "76a7936b-76c3-47e6-8cf7-5a1212a407eb"
      },
      "execution_count": 63,
      "outputs": [
        {
          "output_type": "stream",
          "name": "stdout",
          "text": [
            "El numero 10 es igual al numero 10\n"
          ]
        }
      ]
    },
    {
      "cell_type": "code",
      "source": [
        "num1 > num2"
      ],
      "metadata": {
        "colab": {
          "base_uri": "https://localhost:8080/"
        },
        "id": "XqUD4wDnWh2l",
        "outputId": "f6329379-7f20-4562-c27b-25e11739693e"
      },
      "execution_count": 64,
      "outputs": [
        {
          "output_type": "execute_result",
          "data": {
            "text/plain": [
              "False"
            ]
          },
          "metadata": {},
          "execution_count": 64
        }
      ]
    },
    {
      "cell_type": "code",
      "source": [
        "saldo = 105\n",
        "producto = 105\n",
        "\n",
        "if saldo >= producto:\n",
        "  print(f\"Me lo llevo para mi casa y me sobra plata!.\")\n",
        "elif saldo == producto:\n",
        "  print(f\"Lo compro pero ya no me queda plata!.\")\n",
        "else:\n",
        "  print(f\"No me alcanza para comprarlo!.\")"
      ],
      "metadata": {
        "colab": {
          "base_uri": "https://localhost:8080/"
        },
        "id": "ZUSa6F2aX0r7",
        "outputId": "c2ae2e0a-68e7-4d79-c617-9d75dd5525b8"
      },
      "execution_count": 73,
      "outputs": [
        {
          "output_type": "stream",
          "name": "stdout",
          "text": [
            "Me lo llevo para mi casa y me sobra plata!.\n"
          ]
        }
      ]
    },
    {
      "cell_type": "code",
      "source": [
        "saldo = 105\n",
        "producto = 105\n",
        "\n",
        "if saldo >= producto:\n",
        "  print(f\"Me lo llevo para mi casa y me sobra plata!.\")\n",
        "if saldo == producto:\n",
        "  print(f\"Lo compro pero ya no me queda plata!.\")\n",
        "else:\n",
        "  print(f\"No me alcanza para comprarlo!.\")"
      ],
      "metadata": {
        "colab": {
          "base_uri": "https://localhost:8080/"
        },
        "id": "4iS80wC_ZEK0",
        "outputId": "d4f8d717-3857-4d99-f273-4e2319b93f94"
      },
      "execution_count": 74,
      "outputs": [
        {
          "output_type": "stream",
          "name": "stdout",
          "text": [
            "Me lo llevo para mi casa y me sobra plata!.\n",
            "Lo compro pero ya no me queda plata!.\n"
          ]
        }
      ]
    },
    {
      "cell_type": "code",
      "source": [
        "sexo = \"M\"\n",
        "edad = 13\n",
        "\n",
        "if sexo == \"M\":\n",
        "  print(\"Es un hombre\")\n",
        "if edad == 13:\n",
        "  print(\"La edad es 13\")\n",
        "else: \n",
        "  print(\"ERROR\")"
      ],
      "metadata": {
        "colab": {
          "base_uri": "https://localhost:8080/"
        },
        "id": "ryw-S3PCZRXz",
        "outputId": "3844f182-01a5-4983-cb85-60f0f3803a33"
      },
      "execution_count": 77,
      "outputs": [
        {
          "output_type": "stream",
          "name": "stdout",
          "text": [
            "Es un hombre\n",
            "La edad es 13\n"
          ]
        }
      ]
    },
    {
      "cell_type": "code",
      "source": [
        "sexo = \"M\"\n",
        "edad = 21\n",
        "\n",
        "\n",
        "if sexo == \"M\":\n",
        "    if edad >= 13:\n",
        "      if edad <=20:\n",
        "        print(\"La personas es Masculina y esta entre los 13 y 20 años\")\n",
        "      else:\n",
        "       print(\"Edad mayor a 20\")\n",
        "    else:\n",
        "      print(\"Edad menor a 13\")\n",
        "else:\n",
        "  print(\"Vacio\") "
      ],
      "metadata": {
        "colab": {
          "base_uri": "https://localhost:8080/"
        },
        "id": "r2KXJdLIaG6e",
        "outputId": "122a1375-a6a8-46a9-dfb9-b42c17d1c061"
      },
      "execution_count": 78,
      "outputs": [
        {
          "output_type": "stream",
          "name": "stdout",
          "text": [
            "Edad mayor a 20\n"
          ]
        }
      ]
    },
    {
      "cell_type": "code",
      "source": [
        "# Validas que la persona sea Masculino y este entre \n",
        "# 13 y 20 años\n",
        "\n",
        "sexo = \"F\"\n",
        "edad = 22\n",
        "\n",
        "if sexo == \"M\" and edad>= 13 and  edad<=20:\n",
        "  print(\"El paciente es M y esta entre 13 y 20 años\")\n",
        "elif (sexo == \"F\") and (edad > 20):\n",
        "  print(\"El paciente me sirve, auqneu tiene más de 20 años y es femenino\")\n",
        "elif (sexo == \"F\"):\n",
        "  print(\"El paciente es Femenino\")\n",
        "else:\n",
        "  print(\"No interesa el paciente\")"
      ],
      "metadata": {
        "colab": {
          "base_uri": "https://localhost:8080/"
        },
        "id": "lqWoeZBzaxat",
        "outputId": "fcd964d9-02b7-44ac-9464-c02e2647229f"
      },
      "execution_count": 83,
      "outputs": [
        {
          "output_type": "stream",
          "name": "stdout",
          "text": [
            "El paciente me sirve, auqneu tiene más de 20 años y es femenino\n"
          ]
        }
      ]
    },
    {
      "cell_type": "code",
      "source": [
        "estado_civil = \"Soltero\"\n",
        "\n",
        "if estado_civil == \"Soltero\" or estado_civil == \"Viudo\":\n",
        "  print(\"La persona es soltera/viuda\")\n",
        "elif estado_civil == \"Casado\":\n",
        "  print(\"Ya esta casado!\")\n",
        "else: \n",
        "  print(\"Unión libre\")"
      ],
      "metadata": {
        "colab": {
          "base_uri": "https://localhost:8080/"
        },
        "id": "pjBoROqXa3R5",
        "outputId": "a0bdccea-85c3-4ac7-89a7-9c4ac09dd090"
      },
      "execution_count": 84,
      "outputs": [
        {
          "output_type": "stream",
          "name": "stdout",
          "text": [
            "La persona es soltera/viuda\n"
          ]
        }
      ]
    },
    {
      "cell_type": "markdown",
      "source": [
        "##EJERCICIO\n",
        "\n",
        "Construya una funcion de calcular el valor de un producto, en base, a si el producto tiene o no IVA. \n",
        "La funcion va a recibir como parametros: El valor del producto y si tiene o no IVA (puede ser una varible que tensi \"si\" o \"no\". (tomen el IVA como 0.19) \n",
        "\n",
        "La funcion debe imprimir lo siguiente:\n",
        "\n",
        "\n",
        "\n",
        "*   El producto tiene un consto de 335.55, y con IVA es de 399.3045\n",
        "*   El producto tiene un costo de 500 y no tiene IVA \n",
        "\n",
        "\n"
      ],
      "metadata": {
        "id": "0i5BGbTEdGHu"
      }
    },
    {
      "cell_type": "code",
      "source": [
        "def ejercicio(valor_producto, tiene_iva):\n",
        "  iva = 0.19\n",
        "  if tiene_iva == 1:\n",
        "    valor_total = valor_producto + (valor_producto * iva)\n",
        "    print(f\"El producto tiene un costo de {valor_producto}, y con Iva es de {valor_total}\")\n",
        "  else:\n",
        "    print(F\"El producto tiene un costo de {valor_producto}, y no tiene IVA\") "
      ],
      "metadata": {
        "id": "xltprvR0dFCd"
      },
      "execution_count": 90,
      "outputs": []
    },
    {
      "cell_type": "code",
      "source": [
        "ejercicio(3000, 1)"
      ],
      "metadata": {
        "colab": {
          "base_uri": "https://localhost:8080/"
        },
        "id": "93lA0g2Mf_MZ",
        "outputId": "09b4734b-159e-4895-86d2-e6c162d5b47a"
      },
      "execution_count": 95,
      "outputs": [
        {
          "output_type": "stream",
          "name": "stdout",
          "text": [
            "El producto tiene un costo de 3000, y no tiene IVA\n"
          ]
        }
      ]
    },
    {
      "cell_type": "markdown",
      "source": [],
      "metadata": {
        "id": "FaxLTm9RIjl1"
      }
    }
  ]
}