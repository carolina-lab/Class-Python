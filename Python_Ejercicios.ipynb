{
  "nbformat": 4,
  "nbformat_minor": 0,
  "metadata": {
    "colab": {
      "provenance": [],
      "authorship_tag": "ABX9TyP+K2XnChQ5oxpUr5m/WmTJ",
      "include_colab_link": true
    },
    "kernelspec": {
      "name": "python3",
      "display_name": "Python 3"
    },
    "language_info": {
      "name": "python"
    }
  },
  "cells": [
    {
      "cell_type": "markdown",
      "metadata": {
        "id": "view-in-github",
        "colab_type": "text"
      },
      "source": [
        "<a href=\"https://colab.research.google.com/github/carolina-lab/Class-Python/blob/main/Python_Ejercicios.ipynb\" target=\"_parent\"><img src=\"https://colab.research.google.com/assets/colab-badge.svg\" alt=\"Open In Colab\"/></a>"
      ]
    },
    {
      "cell_type": "code",
      "execution_count": 1,
      "metadata": {
        "colab": {
          "base_uri": "https://localhost:8080/"
        },
        "id": "A6JCaeCQmKGu",
        "outputId": "8ab57e3d-6d35-4d0c-a4be-7ada59fedf87"
      },
      "outputs": [
        {
          "output_type": "stream",
          "name": "stdout",
          "text": [
            "Ingresa el precio del artículo: 800\n",
            "El precio con IVA es 952.0\n"
          ]
        }
      ],
      "source": [
        "#Haremos una función sencilla que tiene parámetros\n",
        "def valor_con_iva(precio_sin_iva):\n",
        "    valor_total = precio_sin_iva + precio_sin_iva * 0.19\n",
        "    mensaje = print(f\"El precio con IVA es {valor_total:,}\")\n",
        "    return mensaje\n",
        "\n",
        "precio_sin_iva = int(input(\"Ingresa el precio del artículo: \"))\n",
        "valor_con_iva(precio_sin_iva)"
      ]
    },
    {
      "cell_type": "code",
      "source": [
        "precio_producto = 15000\n",
        "iva = 0.19\n",
        "\n",
        "def valor_con_iva(precio_sin_iva, iva):\n",
        "    valor_total = precio_sin_iva + precio_sin_iva * iva\n",
        "    mensaje = print(f\"El precio con IVA es {valor_total:,}\")\n",
        "    return mensaje\n",
        "\n",
        "valor_con_iva(precio_producto, iva)"
      ],
      "metadata": {
        "id": "RWRruSVqmUCs",
        "outputId": "9bae808d-3b3e-4f50-fec2-e29bc7bbc096",
        "colab": {
          "base_uri": "https://localhost:8080/"
        }
      },
      "execution_count": 2,
      "outputs": [
        {
          "output_type": "stream",
          "name": "stdout",
          "text": [
            "El precio con IVA es 17,850.0\n"
          ]
        }
      ]
    }
  ]
}