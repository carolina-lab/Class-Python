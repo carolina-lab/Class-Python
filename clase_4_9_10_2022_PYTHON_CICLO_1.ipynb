{
  "nbformat": 4,
  "nbformat_minor": 0,
  "metadata": {
    "colab": {
      "provenance": [],
      "authorship_tag": "ABX9TyOwAFfabelSmXePHCGojE65",
      "include_colab_link": true
    },
    "kernelspec": {
      "name": "python3",
      "display_name": "Python 3"
    },
    "language_info": {
      "name": "python"
    }
  },
  "cells": [
    {
      "cell_type": "markdown",
      "metadata": {
        "id": "view-in-github",
        "colab_type": "text"
      },
      "source": [
        "<a href=\"https://colab.research.google.com/github/carolina-lab/Class-Python/blob/main/clase_4_9_10_2022_PYTHON_CICLO_1.ipynb\" target=\"_parent\"><img src=\"https://colab.research.google.com/assets/colab-badge.svg\" alt=\"Open In Colab\"/></a>"
      ]
    },
    {
      "cell_type": "markdown",
      "source": [
        "##CICLO **FOR**\n",
        "\n",
        "Se cracteriza principalmente porque a priori sabemos la cantidad de interracciones que vamos a realizar. \n",
        "\n",
        "##CICLO **WHILE**\n",
        "\n",
        "Este ciclo puedes ser infinito, sin embargo, se va a ejecutar hasta que se cumpla o no una condición. \n",
        "\n"
      ],
      "metadata": {
        "id": "MRhGoumgpGF9"
      }
    },
    {
      "cell_type": "code",
      "source": [
        "for num in range(1, 11, 1):\n",
        "  print(num)"
      ],
      "metadata": {
        "colab": {
          "base_uri": "https://localhost:8080/"
        },
        "id": "JRVeb7IjpH_k",
        "outputId": "7f005e56-5fc4-4205-a535-f286c0d27470"
      },
      "execution_count": null,
      "outputs": [
        {
          "output_type": "stream",
          "name": "stdout",
          "text": [
            "1\n",
            "2\n",
            "3\n",
            "4\n",
            "5\n",
            "6\n",
            "7\n",
            "8\n",
            "9\n",
            "10\n"
          ]
        }
      ]
    },
    {
      "cell_type": "code",
      "source": [
        "for num in range(0, 10, 1):\n",
        "  print(num + 1)"
      ],
      "metadata": {
        "colab": {
          "base_uri": "https://localhost:8080/"
        },
        "id": "5TFT-1WVplpx",
        "outputId": "ae8e58f0-0577-40c7-ab76-c7e5c82b5aad"
      },
      "execution_count": null,
      "outputs": [
        {
          "output_type": "stream",
          "name": "stdout",
          "text": [
            "1\n",
            "2\n",
            "3\n",
            "4\n",
            "5\n",
            "6\n",
            "7\n",
            "8\n",
            "9\n",
            "10\n"
          ]
        }
      ]
    },
    {
      "cell_type": "code",
      "source": [
        "for num in range(1, 11, 1):\n",
        "  print(num, end = '*')"
      ],
      "metadata": {
        "colab": {
          "base_uri": "https://localhost:8080/"
        },
        "id": "8wtM7jtop0za",
        "outputId": "c7b86edb-5e26-4d05-9ee4-7e3039ff780f"
      },
      "execution_count": null,
      "outputs": [
        {
          "output_type": "stream",
          "name": "stdout",
          "text": [
            "1*2*3*4*5*6*7*8*9*10*"
          ]
        }
      ]
    },
    {
      "cell_type": "markdown",
      "source": [
        "## **WHILE**"
      ],
      "metadata": {
        "id": "0k_AOCXAp_zp"
      }
    },
    {
      "cell_type": "code",
      "source": [
        "minutos = 0\n",
        "\n",
        "while minutos <= 4:\n",
        "  print(\"Estudiar!!!\")\n",
        "  minutos = minutos + 1\n",
        "\n",
        "print(f\"Se alcanzo el minuto {minutos}, y ya nos vamos pa la casa\")"
      ],
      "metadata": {
        "colab": {
          "base_uri": "https://localhost:8080/"
        },
        "id": "keaEp7tGp-X7",
        "outputId": "a1a4e706-b0a4-4299-b9cd-268395d75e3b"
      },
      "execution_count": null,
      "outputs": [
        {
          "output_type": "stream",
          "name": "stdout",
          "text": [
            "Estudiar!!!\n",
            "Estudiar!!!\n",
            "Estudiar!!!\n",
            "Estudiar!!!\n",
            "Estudiar!!!\n",
            "Se alcanzo el minuto 5, y ya nos vamos pa la casa\n"
          ]
        }
      ]
    },
    {
      "cell_type": "code",
      "source": [
        "numero_adivinar = 10\n",
        "numero_usuario = -1\n",
        "\n",
        "while numero_adivinar != numero_usuario:\n",
        "  numero_usuario = int(input(\"Ingrese un numero para tratar de adivinar: \"))\n",
        "  if numero_usuario == numero_adivinar:\n",
        "    print(\"Felicitaciones! Adivinaste el numero ganador\")\n",
        "  else:\n",
        "    print(\"Sigue intentando.\")\n",
        "\n",
        "num1 = 2\n",
        "num2 = 10\n",
        "print(num1 +num2)"
      ],
      "metadata": {
        "colab": {
          "base_uri": "https://localhost:8080/"
        },
        "id": "7fZT9bPuqGKE",
        "outputId": "dce233ec-5e1c-496f-b197-ab592a69be5c"
      },
      "execution_count": null,
      "outputs": [
        {
          "output_type": "stream",
          "name": "stdout",
          "text": [
            "Ingrese un numero para tratar de adivinar: 5\n",
            "Sigue intentando.\n",
            "Ingrese un numero para tratar de adivinar: 5\n",
            "Sigue intentando.\n",
            "Ingrese un numero para tratar de adivinar: 4\n",
            "Sigue intentando.\n",
            "Ingrese un numero para tratar de adivinar: 5\n",
            "Sigue intentando.\n",
            "Ingrese un numero para tratar de adivinar: 1\n",
            "Sigue intentando.\n",
            "Ingrese un numero para tratar de adivinar: 10\n",
            "Felicitaciones! Adivinaste el numero ganador\n",
            "12\n"
          ]
        }
      ]
    },
    {
      "cell_type": "code",
      "source": [
        "numero_adivinar      = 50\n",
        "numero_usuario       = -1\n",
        "numero_intentos_max  = 5\n",
        "numero_intentos_user = 0\n",
        "\n",
        "while numero_adivinar != numero_usuario:\n",
        "  numero_usuario = int(input(\"Ingrese un numero para tratar de adivinar: \"))\n",
        "  if numero_usuario == numero_adivinar:\n",
        "    print(\"Felicitaciones! Adivinaste el número ganador\")\n",
        "    break\n",
        "\n",
        "print(\"Continuacion despues del ciclo While\")"
      ],
      "metadata": {
        "colab": {
          "base_uri": "https://localhost:8080/"
        },
        "id": "_meNtNM4q6re",
        "outputId": "55996a08-04b3-4217-fc2f-56e198220714"
      },
      "execution_count": null,
      "outputs": [
        {
          "output_type": "stream",
          "name": "stdout",
          "text": [
            "Ingrese un numero para tratar de adivinar: 50\n",
            "Felicitaciones! Adivinaste el número ganador\n",
            "Continuacion despues del ciclo While\n"
          ]
        }
      ]
    },
    {
      "cell_type": "markdown",
      "source": [
        "## RETO 1 - 1\n",
        "\n",
        "Usted y un grupo de amigos ha decidio realizar una rifa de 1'000.000 de pesos para fondos en pro de los habitantes de calle del municipio en el que usted habita. \n",
        "\n",
        "Cada participante debe adivinar un número entre 0 y b (incluidos, b y n son los mismos para todos los concursantes)\n",
        "\n",
        "Cada concursante va ingresando numeros entre 0 y b, y mientras o por debajo del que debe adivinar.\n",
        "\n",
        "Una vez el concunsarte haya adivinado, el sistema debera imprimir a los cuantos intentos el participante logro adivinar el numero, y sera el jurado el encargado de dar como ganador, a quien hay adivinado en menos intentos. "
      ],
      "metadata": {
        "id": "VVqNsVfEuRw-"
      }
    },
    {
      "cell_type": "code",
      "source": [
        "#Declaracion de variables\n",
        "min_num      = 0\n",
        "max_num      = 15\n",
        "num_adivinar = 7\n",
        "num_usuario  = 0 #Para garantizar que se ingrese almenos una vez al ciclo while\n",
        "num_intentos = 0\n",
        "\n",
        "while num_usuario != num_adivinar:\n",
        "  num_usuario = int(input(\"Ingrese un número: \"))\n",
        "  if (num_usuario >= min_num) and (num_usuario <= max_num):\n",
        "    num_intentos += 1\n",
        "\n",
        "    if num_usuario == num_adivinar:\n",
        "      print(f\"Felicitaciones, adivinaste en {num_intentos}\")\n",
        "      break\n",
        "    \n",
        "    elif num_usuario > num_adivinar:\n",
        "      print(\"Esta por debajo del número a adivinar\")\n",
        "\n",
        "    elif num_usuario > num_adivinar:\n",
        "      print(\"Esta por debajo del número a adivinar\")\n",
        "\n",
        "  else:\n",
        "     print(\"El numero ingresado esta por fuera del rango!\")"
      ],
      "metadata": {
        "colab": {
          "base_uri": "https://localhost:8080/"
        },
        "id": "BRMkuEzKtP5x",
        "outputId": "5ac50432-0fef-486b-b402-aa8b6b948a8c"
      },
      "execution_count": null,
      "outputs": [
        {
          "output_type": "stream",
          "name": "stdout",
          "text": [
            "Ingrese un número: 100\n",
            "El numero ingresado esta por fuera del rango!\n",
            "Ingrese un número: 2\n",
            "Ingrese un número: 7\n",
            "Felicitaciones, adivinaste en 2\n"
          ]
        }
      ]
    },
    {
      "cell_type": "markdown",
      "source": [
        "## Reto 1 - 2\n",
        "\n",
        "\n",
        "Usted ha sido contratado por la tienda de su barrio para hacer una calculadora que le falicitará llevar al tendero la cuenta de una compra. \n",
        "\n",
        "\n",
        "\n",
        "*   El programa le solicita al tendero cual es el valor unitario de un producto que lleva al cliente (Sin Iva)\n",
        "*   El programa le pregunta al tendero si el producto tiene IVA \n",
        "*   El programa le solicita al tendero cual es la cantidad que lleva el cliente de ese producto\n",
        "\n"
      ],
      "metadata": {
        "id": "TgrXiQ_zlJkc"
      }
    },
    {
      "cell_type": "code",
      "source": [
        "valor_unitario = int(input(\"Ingrese el valor unitario del producto: \"))\n",
        "tiene_iva = input(\"El producto tiene IVA (S/N)? \")\n",
        "cantidad_prod = int(input(\"Ingrese la cantidad a llevar: \"))\n",
        "iva = 0.19\n",
        "total = 0\n",
        "ingresar_producto = True\n",
        "\n",
        "\n",
        "while ingresar_producto:\n",
        "  ingresar_producto = bool(input(\"Desea comprar algo mas? \"))\n",
        "  print(\"Saliendo de la tienda\")\n",
        "  break\n",
        "  \n",
        "  if tiene_iva == 's':\n",
        "    total += ((valor_unitario) * iva + valor_unitario)*cantidad_prod\n",
        "  else: \n",
        "     total += (valor_unitario * cantidad_prod)\n",
        "\n",
        "print(f\"El total a pagar es: {total:,} \")\n",
        "\n",
        "\n"
      ],
      "metadata": {
        "id": "ziQ8CtPcTGub"
      },
      "execution_count": null,
      "outputs": []
    },
    {
      "cell_type": "code",
      "source": [],
      "metadata": {
        "id": "iGSic7vB6oZC"
      },
      "execution_count": null,
      "outputs": []
    }
  ]
}