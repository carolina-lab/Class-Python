{
  "nbformat": 4,
  "nbformat_minor": 0,
  "metadata": {
    "colab": {
      "provenance": [],
      "authorship_tag": "ABX9TyPvYn7J/GRJFM0mFfiZ/RvH",
      "include_colab_link": true
    },
    "kernelspec": {
      "name": "python3",
      "display_name": "Python 3"
    },
    "language_info": {
      "name": "python"
    }
  },
  "cells": [
    {
      "cell_type": "markdown",
      "metadata": {
        "id": "view-in-github",
        "colab_type": "text"
      },
      "source": [
        "<a href=\"https://colab.research.google.com/github/carolina-lab/Class-Python/blob/main/clase_20221001_CICLO_1_PYTHON.ipynb\" target=\"_parent\"><img src=\"https://colab.research.google.com/assets/colab-badge.svg\" alt=\"Open In Colab\"/></a>"
      ]
    },
    {
      "cell_type": "markdown",
      "source": [
        "  CLASE OCTUBRE 01 -2022\n",
        "\n",
        "  Este es un ejemplo de como trabajar en Google Colaboratory\n",
        "\n",
        "  El dia de hoy vamos a trabajar lo siguiente; \n",
        "\n",
        "\n",
        "1.   Comando print\n",
        "2.   Comando Input\n",
        "3.   Introduccion a lo que son las funciones de Python\n",
        "\n",
        "\n",
        "\n",
        "\n",
        "*   Para crear una celda nueva, podemos usar las opciones que nos provee Colab, en la parte superior, donde dice Codigo o Texto\n",
        "*   Tambien podemos usar el shortout: **Esc** y luego presionando la tecla **A (Above)** o la tecla **B (Below)**\n",
        "\n",
        "\n",
        "\n",
        "\n",
        "\n",
        "\n"
      ],
      "metadata": {
        "id": "G_PFAumUBCYA"
      }
    },
    {
      "cell_type": "code",
      "source": [
        "#ESTA ES LA CELDA ACTIVA"
      ],
      "metadata": {
        "id": "Se9ov7i2BqOi"
      },
      "execution_count": null,
      "outputs": []
    },
    {
      "cell_type": "markdown",
      "source": [
        "El comando print se utiliza principalmente para mostrar mensajes en pantalla.\n",
        "La sintaxis ( o la manera correctar) de usar el **comando** print, es la siguiente: print(\"Este mensaje\",sep=\",\",end=\".\")"
      ],
      "metadata": {
        "id": "E0dLo1vMCpkD"
      }
    },
    {
      "cell_type": "code",
      "source": [
        "print(\"Hola Cilo 1 Mision Tic\")\n",
        "print(\"Universidad de Antioquia\")\n",
        "print(\"Ciclo 1 Intensivo\")"
      ],
      "metadata": {
        "colab": {
          "base_uri": "https://localhost:8080/"
        },
        "id": "l0w5VuD1Ck_u",
        "outputId": "6a729bdc-c83e-4bd7-8636-cf5b325f65b7"
      },
      "execution_count": null,
      "outputs": [
        {
          "output_type": "stream",
          "name": "stdout",
          "text": [
            "Hola Cilo 1 Mision Tic\n",
            "Universidad de Antioquia\n",
            "Ciclo 1 Intensivo\n"
          ]
        }
      ]
    },
    {
      "cell_type": "code",
      "source": [
        "print(\"Hola Cilo 1 Mision Tic\", end = ', ')\n",
        "print(\"Universidad de Antioquia\", end = '')\n",
        "print(\"Ciclo 1 Intensivo\")"
      ],
      "metadata": {
        "colab": {
          "base_uri": "https://localhost:8080/"
        },
        "id": "xD60TFHrDvl4",
        "outputId": "8e4f28b1-74ef-4085-aec1-5e2728061943"
      },
      "execution_count": null,
      "outputs": [
        {
          "output_type": "stream",
          "name": "stdout",
          "text": [
            "Hola Cilo 1 Mision Tic, Universidad de Antioquia\n",
            "Ciclo 1 Intensivo\n"
          ]
        }
      ]
    },
    {
      "cell_type": "code",
      "source": [
        "print(\"Hola Cilo 1 Mision Tic,\", \"Univerdidad de Antioquia\")"
      ],
      "metadata": {
        "colab": {
          "base_uri": "https://localhost:8080/"
        },
        "id": "T2EJWYWkERkK",
        "outputId": "d62ee2bf-eed2-4023-8eda-603c9a15b312"
      },
      "execution_count": null,
      "outputs": [
        {
          "output_type": "stream",
          "name": "stdout",
          "text": [
            "Hola Cilo 1 Mision Tic, Univerdidad de Antioquia\n"
          ]
        }
      ]
    },
    {
      "cell_type": "code",
      "source": [
        "print(\"Hola Ciclo 1, mensaje 1\", \"mensaje 2\", \"mensaje 3\", sep = ', ')"
      ],
      "metadata": {
        "colab": {
          "base_uri": "https://localhost:8080/"
        },
        "id": "mOUDy8P_FMrF",
        "outputId": "cd35bce5-93bd-4008-c3df-14e7f1f4d378"
      },
      "execution_count": null,
      "outputs": [
        {
          "output_type": "stream",
          "name": "stdout",
          "text": [
            "Hola Ciclo 1, mensaje 1, mensaje 2, mensaje 3\n"
          ]
        }
      ]
    },
    {
      "cell_type": "code",
      "source": [
        "nombre_estudiante = 'Caro'\n",
        "edad = 24\n",
        "print(\"Hola\", nombre_estudiante, \", bienvendios al curso de Mision TIC\", \"Tienes\", edad, \"años\")\n",
        "print(f\"Hola {nombre_estudiante}, bienvenidos al Curso Mision tic\")"
      ],
      "metadata": {
        "colab": {
          "base_uri": "https://localhost:8080/"
        },
        "id": "BY3wUvvBGcjt",
        "outputId": "b0111b6f-a58f-4a9e-db09-2b81060b97cb"
      },
      "execution_count": null,
      "outputs": [
        {
          "output_type": "stream",
          "name": "stdout",
          "text": [
            "Hola Caro , bienvendios al curso de Mision TIC Tienes 24 años\n",
            "Hola Caro, bienvenidos al Curso Mision tic\n"
          ]
        }
      ]
    },
    {
      "cell_type": "code",
      "source": [
        "print(\"Hola \" + str(edad))"
      ],
      "metadata": {
        "colab": {
          "base_uri": "https://localhost:8080/"
        },
        "id": "nhyZdTaOHTVN",
        "outputId": "7665da9d-7fb2-4091-fb98-b137f77543ad"
      },
      "execution_count": null,
      "outputs": [
        {
          "output_type": "stream",
          "name": "stdout",
          "text": [
            "Hola 24\n"
          ]
        }
      ]
    },
    {
      "cell_type": "code",
      "source": [
        "curso = 101045\n",
        "print(f\"Bienvenido {nombre_estudiante}, al curso # {curso} del Mision TIC. Usted tiene {edad} años\")"
      ],
      "metadata": {
        "colab": {
          "base_uri": "https://localhost:8080/"
        },
        "id": "KNDRyanbHctR",
        "outputId": "c7d7bb71-8773-46ad-a36d-fe757f579146"
      },
      "execution_count": null,
      "outputs": [
        {
          "output_type": "stream",
          "name": "stdout",
          "text": [
            "Bienvenido Caro, al curso # 101045 del Mision TIC. Usted tiene 24 años\n"
          ]
        }
      ]
    },
    {
      "cell_type": "code",
      "source": [
        "str(435454) +\" cualquier texto\""
      ],
      "metadata": {
        "colab": {
          "base_uri": "https://localhost:8080/",
          "height": 38
        },
        "id": "e4hmc_snI5iA",
        "outputId": "1aba7bbd-bb2d-4892-eb8c-43dc756f6063"
      },
      "execution_count": null,
      "outputs": [
        {
          "output_type": "execute_result",
          "data": {
            "text/plain": [
              "'435454 cualquier texto'"
            ],
            "application/vnd.google.colaboratory.intrinsic+json": {
              "type": "string"
            }
          },
          "metadata": {},
          "execution_count": 14
        }
      ]
    },
    {
      "cell_type": "code",
      "source": [
        "int('4545')"
      ],
      "metadata": {
        "colab": {
          "base_uri": "https://localhost:8080/"
        },
        "id": "6c-bRgvMJm2G",
        "outputId": "0f084193-ac63-45dc-be6d-4b42214ac1db"
      },
      "execution_count": null,
      "outputs": [
        {
          "output_type": "execute_result",
          "data": {
            "text/plain": [
              "4545"
            ]
          },
          "metadata": {},
          "execution_count": 15
        }
      ]
    },
    {
      "cell_type": "code",
      "source": [
        "curso = 22345 #Deficinion de variables\n",
        "name = 'Caro'\n",
        "print(f\"Bienvenido al {curso} señorita {name}\")"
      ],
      "metadata": {
        "colab": {
          "base_uri": "https://localhost:8080/"
        },
        "id": "43d-2gQaJmua",
        "outputId": "21db95a3-d4a6-4245-c83f-3e72e8229d77"
      },
      "execution_count": null,
      "outputs": [
        {
          "output_type": "stream",
          "name": "stdout",
          "text": [
            "Bienvenido al 22345 señorita Caro\n"
          ]
        }
      ]
    },
    {
      "cell_type": "code",
      "source": [
        "\"Hola \" + \"Este es otro mensaje\""
      ],
      "metadata": {
        "colab": {
          "base_uri": "https://localhost:8080/",
          "height": 38
        },
        "id": "q0aESiJYKjYz",
        "outputId": "3680d078-af13-4605-9d6e-8308268a58e7"
      },
      "execution_count": null,
      "outputs": [
        {
          "output_type": "execute_result",
          "data": {
            "text/plain": [
              "'Hola Este es otro mensaje'"
            ],
            "application/vnd.google.colaboratory.intrinsic+json": {
              "type": "string"
            }
          },
          "metadata": {},
          "execution_count": 18
        }
      ]
    },
    {
      "cell_type": "markdown",
      "source": [
        "COMANDO INPUT\n",
        "\n",
        "Este comando se utiliza para preguntar a los usuarios por los valores de varibales, Se conoce como entrada de datos\n"
      ],
      "metadata": {
        "id": "0KSoLog-Ko1O"
      }
    },
    {
      "cell_type": "code",
      "source": [
        "nombre = 'Caro'\n",
        "edad = 24\n",
        "curso = 'Ciclo 1 Mision Tic'\n",
        "ciudad = 'Medellin'\n",
        "\n",
        "\n",
        "print (f\"Hola {nombre} de {edad} años, bienvenido al curso {curso}, en la ciudad de {ciudad}\")"
      ],
      "metadata": {
        "colab": {
          "base_uri": "https://localhost:8080/"
        },
        "id": "lsX_WkggKzZo",
        "outputId": "281a2aa2-1f0a-461a-fde5-17721c35b304"
      },
      "execution_count": null,
      "outputs": [
        {
          "output_type": "stream",
          "name": "stdout",
          "text": [
            "Hola Caro de 24 años, bienvenido al curso Ciclo 1 Mision Tic, en la ciudad de Medellin\n"
          ]
        }
      ]
    },
    {
      "cell_type": "code",
      "source": [
        "input(\"Cual es tu nombre? \")\n",
        "input(\"Donde vives? \")"
      ],
      "metadata": {
        "colab": {
          "base_uri": "https://localhost:8080/",
          "height": 80
        },
        "id": "Dgb8tFm0Ldsb",
        "outputId": "bafc6cbb-3646-43f7-e5d7-a04c086daa5f"
      },
      "execution_count": null,
      "outputs": [
        {
          "name": "stdout",
          "output_type": "stream",
          "text": [
            "Cual es tu nombre? Caro\n",
            "Donde vives? Bogota\n"
          ]
        },
        {
          "output_type": "execute_result",
          "data": {
            "text/plain": [
              "'Bogota'"
            ],
            "application/vnd.google.colaboratory.intrinsic+json": {
              "type": "string"
            }
          },
          "metadata": {},
          "execution_count": 23
        }
      ]
    },
    {
      "cell_type": "code",
      "source": [
        "print(f\"Hola bienvendio , {input('Caul es tu nombre? ')} \")"
      ],
      "metadata": {
        "colab": {
          "base_uri": "https://localhost:8080/"
        },
        "id": "nMuV6UInL6Iu",
        "outputId": "9127f241-4eb6-4d6a-d436-351e21cb2f92"
      },
      "execution_count": null,
      "outputs": [
        {
          "output_type": "stream",
          "name": "stdout",
          "text": [
            "Caul es tu nombre? Caro\n",
            "Hola bienvendio , Caro \n"
          ]
        }
      ]
    },
    {
      "cell_type": "code",
      "source": [
        "nombre = input(\"Cual es tu Nombre? \") #siempre siempre recibe TEXTO\n",
        "salario = int(input(\"Cual es tu salario? \")) #Cuando es un valor numerico, debemos convertilo a int, float"
      ],
      "metadata": {
        "colab": {
          "base_uri": "https://localhost:8080/"
        },
        "id": "zlxrsn84MXP1",
        "outputId": "9d691f9a-aa1d-42d8-dd3a-ea20df882144"
      },
      "execution_count": null,
      "outputs": [
        {
          "name": "stdout",
          "output_type": "stream",
          "text": [
            "Cual es tu Nombre? caro\n",
            "Cual es tu salario? 1000000\n"
          ]
        }
      ]
    },
    {
      "cell_type": "code",
      "source": [
        "salario_incrementado = int(salario) + 1000000"
      ],
      "metadata": {
        "id": "5Y1Rc6k2MtZQ"
      },
      "execution_count": null,
      "outputs": []
    },
    {
      "cell_type": "code",
      "source": [
        "print(f\"El salario base de {nombre} es {salario:,}, y con el incremento es {salario_incrementado:,}\")"
      ],
      "metadata": {
        "colab": {
          "base_uri": "https://localhost:8080/"
        },
        "id": "OEUXapLkMmMa",
        "outputId": "d80a5ec3-5ad0-4b60-e5f6-d68e3164eeff"
      },
      "execution_count": null,
      "outputs": [
        {
          "output_type": "stream",
          "name": "stdout",
          "text": [
            "El salario base de caro es 1,000,000, y con el incremento es 2,000,000\n"
          ]
        }
      ]
    },
    {
      "cell_type": "code",
      "source": [
        "round(float(230.985454545454), 3)"
      ],
      "metadata": {
        "colab": {
          "base_uri": "https://localhost:8080/"
        },
        "id": "dOfhYO1gNSgP",
        "outputId": "7a84073d-a57c-42a4-e0dc-0e678d7fbcf7"
      },
      "execution_count": null,
      "outputs": [
        {
          "output_type": "execute_result",
          "data": {
            "text/plain": [
              "230.985"
            ]
          },
          "metadata": {},
          "execution_count": 40
        }
      ]
    },
    {
      "cell_type": "markdown",
      "source": [
        "##Codigo redundante (repetitivo)"
      ],
      "metadata": {
        "id": "YSLsH-iaPPQH"
      }
    },
    {
      "cell_type": "code",
      "source": [
        "estudiante1 = input(\"Como te llamas estudiante1? \")\n",
        "edad1 = int(input(\"Cual es tu edad estudiante1? \"))\n",
        "\n",
        "estudiante2 = input(\"Como te llamas estudiante2? \")\n",
        "edad2 = int(input(\"Cual es tu edad estudiante2? \"))\n",
        "\n",
        "print(f\"El estudiante {estudiante1} tiene {edad1} años\")\n",
        "print(f\"El estudiante {estudiante2} tiene {edad2} años{\")"
      ],
      "metadata": {
        "colab": {
          "base_uri": "https://localhost:8080/"
        },
        "id": "80WbcbTNOWDk",
        "outputId": "bdb17bd9-ab3d-4b86-8da9-d0d87beeb2fd"
      },
      "execution_count": null,
      "outputs": [
        {
          "output_type": "stream",
          "name": "stdout",
          "text": [
            "Como te llamas estudiante1? Caro\n",
            "Cual es tu edad estudiante1? 24\n",
            "Como te llamas estudiante2? Migue\n",
            "Cual es tu edad estudiante2? 25\n",
            "El estudiante Caro tiene 24 años\n",
            "El estudiante Migue tiene 25 años\n"
          ]
        }
      ]
    },
    {
      "cell_type": "markdown",
      "source": [
        "##Funciones\n",
        "\n",
        "Una función es una porción de codigo que se encarga de realiar una o varias tareas especificas, que puede recibir o no parametros y puede retornoar o no datos. \n",
        "\n",
        "La sintaxis para crear una función es la siguiente: \n",
        "\n",
        "\n",
        "```\n",
        "def nombre_funcion(parametros (opcional)):\n",
        "print(\"Hola, esta es una funcion\")\n",
        "return 0\n",
        "\n",
        "```\n",
        "\n",
        "Las funciones constan de varias partes: \n",
        "\n",
        "\n",
        "\n",
        "1.   Definicion de la funcion, que se hace con la palabra **def nombre_funcion():**\n",
        "2.   El codigo interno de la funcion \n",
        "3.   El llamado a la funcion\n",
        "\n",
        "\n",
        "\n",
        "\n",
        "\n",
        "\n"
      ],
      "metadata": {
        "id": "0wL0mYhEPqNp"
      }
    },
    {
      "cell_type": "code",
      "source": [
        "def mi_primer_funcion(): #Definicion de la funcion\n",
        "  print(\"Hola, esta es mi primer funcion en ´Python\") #Codifo interno de la funcion\n",
        "  print(\"Este es otro mensaje\")\n",
        "  return 0"
      ],
      "metadata": {
        "id": "Z-sYhfAfQcIP"
      },
      "execution_count": null,
      "outputs": []
    },
    {
      "cell_type": "code",
      "source": [
        "#Llamado a la funcion\n",
        "mi_primer_funcion() #Siempre van los parentesis vacios o no, para llamar la funcion"
      ],
      "metadata": {
        "colab": {
          "base_uri": "https://localhost:8080/"
        },
        "id": "DWwDMR2XRDG5",
        "outputId": "3824cd02-f6c7-4fb3-9fdb-40b96d88783a"
      },
      "execution_count": null,
      "outputs": [
        {
          "output_type": "stream",
          "name": "stdout",
          "text": [
            "Hola, esta es mi primer funcion en ´Python\n",
            "Este es otro mensaje\n"
          ]
        },
        {
          "output_type": "execute_result",
          "data": {
            "text/plain": [
              "0"
            ]
          },
          "metadata": {},
          "execution_count": 44
        }
      ]
    },
    {
      "cell_type": "code",
      "source": [
        "def recolectar_datos():\n",
        "  nombre = input(\"Cual es tu nombre? \")\n",
        "  edad = int(input(\"Cual es tu edad? \"))\n",
        "  salario =float(input(\"Cual es tu salario: \"))\n",
        "  profesion = input(\"Cual es tu profesion: \")\n",
        "\n",
        "  print(f\"{nombre} tiene {edad} años, es {profesion} y devenga {salario:,} al mes.\")\n",
        "\n",
        "\n"
      ],
      "metadata": {
        "id": "gvxzoWzbR94q"
      },
      "execution_count": null,
      "outputs": []
    },
    {
      "cell_type": "code",
      "source": [
        "recolectar_datos()"
      ],
      "metadata": {
        "colab": {
          "base_uri": "https://localhost:8080/"
        },
        "id": "z7juUZRSSmCb",
        "outputId": "a1e638f5-270e-431a-f8c8-3d901afd4848"
      },
      "execution_count": null,
      "outputs": [
        {
          "output_type": "stream",
          "name": "stdout",
          "text": [
            "Cual es tu nombre? Caro\n",
            "Cual es tu edad? 24\n",
            "Cual es tu salario: 2000000\n",
            "Cual es tu profesion: Finanzas\n",
            "Caro tiene 24 años, es Finanzas y devenga 2,000,000.0 al mes.\n"
          ]
        }
      ]
    },
    {
      "cell_type": "markdown",
      "source": [
        "##PARAMETROS \n",
        "\n",
        "Los paramtreos de las funciones, son valores que reciben las funciones y pueden trabajar con ellas o simplemente mostrarlas en pantalla o no hacer nada. \n",
        "\n",
        "Los paramtros van dentro de los parentisis ***(parametro1, parametro2, parametro3, **\n"
      ],
      "metadata": {
        "id": "VrwZYUKaX7qL"
      }
    },
    {
      "cell_type": "code",
      "source": [
        "def sumar(numero1, numero2, numero3, *args, **kwagards):\n",
        "  resultado = numero1 + numero2 + numero3\n",
        "  print(f\"El resultado de {numero1} + {numero2} + {numero3} es {resultado}\")\n",
        "  return resultado"
      ],
      "metadata": {
        "id": "CB8kwMEBWX6X"
      },
      "execution_count": null,
      "outputs": []
    },
    {
      "cell_type": "code",
      "source": [
        "res = sumar(85,96,62)\n",
        "print(f\"El resultado fue: {res}\")"
      ],
      "metadata": {
        "colab": {
          "base_uri": "https://localhost:8080/"
        },
        "id": "UjY-UmP7Y_lO",
        "outputId": "3ab854f5-a261-47f5-d338-7813dd28ebff"
      },
      "execution_count": null,
      "outputs": [
        {
          "output_type": "stream",
          "name": "stdout",
          "text": [
            "El resultado de 85 + 96 + 62 es 243\n",
            "El resultado fue: 243\n"
          ]
        }
      ]
    }
  ]
}