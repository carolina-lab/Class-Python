{
  "nbformat": 4,
  "nbformat_minor": 0,
  "metadata": {
    "colab": {
      "provenance": [],
      "authorship_tag": "ABX9TyM2mGJcc14jF7filwcQCzrH",
      "include_colab_link": true
    },
    "kernelspec": {
      "name": "python3",
      "display_name": "Python 3"
    },
    "language_info": {
      "name": "python"
    }
  },
  "cells": [
    {
      "cell_type": "markdown",
      "metadata": {
        "id": "view-in-github",
        "colab_type": "text"
      },
      "source": [
        "<a href=\"https://colab.research.google.com/github/carolina-lab/Class-Python/blob/main/clase_3_8_10_22.ipynb\" target=\"_parent\"><img src=\"https://colab.research.google.com/assets/colab-badge.svg\" alt=\"Open In Colab\"/></a>"
      ]
    },
    {
      "cell_type": "code",
      "execution_count": 2,
      "metadata": {
        "id": "6uBXb9K2sTpx"
      },
      "outputs": [],
      "source": [
        "mi_lista = [1, 2, 3, 4, 5]"
      ]
    },
    {
      "cell_type": "code",
      "source": [
        "print(mi_lista)"
      ],
      "metadata": {
        "colab": {
          "base_uri": "https://localhost:8080/"
        },
        "id": "JNLwOL3Zs0Sn",
        "outputId": "c06e0b26-55ab-4982-93eb-e16ecf721167"
      },
      "execution_count": 3,
      "outputs": [
        {
          "output_type": "stream",
          "name": "stdout",
          "text": [
            "[1, 2, 3, 4, 5]\n"
          ]
        }
      ]
    },
    {
      "cell_type": "code",
      "source": [
        "frutas = ['Banano', 'Papaya', 'Kiwi', 'Mango']\n",
        "print(frutas)"
      ],
      "metadata": {
        "colab": {
          "base_uri": "https://localhost:8080/"
        },
        "id": "vV9dq-QJs4Eh",
        "outputId": "eefef4e4-b42c-4a31-9946-b3ae1b5cd09a"
      },
      "execution_count": 6,
      "outputs": [
        {
          "output_type": "stream",
          "name": "stdout",
          "text": [
            "['Banano', 'Papaya', 'Kiwi', 'Mango']\n"
          ]
        }
      ]
    },
    {
      "cell_type": "code",
      "source": [
        "frutas[0]"
      ],
      "metadata": {
        "colab": {
          "base_uri": "https://localhost:8080/",
          "height": 38
        },
        "id": "aYfigR1ptB7S",
        "outputId": "11be839a-7ae9-4732-dac6-df6370361a8d"
      },
      "execution_count": 8,
      "outputs": [
        {
          "output_type": "execute_result",
          "data": {
            "text/plain": [
              "'Banano'"
            ],
            "application/vnd.google.colaboratory.intrinsic+json": {
              "type": "string"
            }
          },
          "metadata": {},
          "execution_count": 8
        }
      ]
    },
    {
      "cell_type": "code",
      "source": [
        "frutas[3]"
      ],
      "metadata": {
        "colab": {
          "base_uri": "https://localhost:8080/",
          "height": 38
        },
        "id": "k8OjIggJuURS",
        "outputId": "8bc1e9f9-92fb-4140-c1e4-be3efcea8d2d"
      },
      "execution_count": 9,
      "outputs": [
        {
          "output_type": "execute_result",
          "data": {
            "text/plain": [
              "'Mango'"
            ],
            "application/vnd.google.colaboratory.intrinsic+json": {
              "type": "string"
            }
          },
          "metadata": {},
          "execution_count": 9
        }
      ]
    },
    {
      "cell_type": "code",
      "source": [
        "frutas[3]\n",
        "print(1+1)\n",
        "print(2+2)\n",
        "print(10+10)"
      ],
      "metadata": {
        "colab": {
          "base_uri": "https://localhost:8080/"
        },
        "id": "_aTlmgWouZ_J",
        "outputId": "380a1498-bf20-4a1f-c21f-0180f8997115"
      },
      "execution_count": 11,
      "outputs": [
        {
          "output_type": "stream",
          "name": "stdout",
          "text": [
            "2\n",
            "4\n",
            "20\n"
          ]
        }
      ]
    },
    {
      "cell_type": "code",
      "source": [
        "frutas.append('Melón')"
      ],
      "metadata": {
        "id": "sWPOo_zUuo_c"
      },
      "execution_count": 12,
      "outputs": []
    },
    {
      "cell_type": "code",
      "source": [
        "frutas"
      ],
      "metadata": {
        "colab": {
          "base_uri": "https://localhost:8080/"
        },
        "id": "gaHU-RzJvYi8",
        "outputId": "5ba2e6a3-7ec5-492b-b1e7-83fd17738d3b"
      },
      "execution_count": 13,
      "outputs": [
        {
          "output_type": "execute_result",
          "data": {
            "text/plain": [
              "['Banano', 'Papaya', 'Kiwi', 'Mango', 'Melón']"
            ]
          },
          "metadata": {},
          "execution_count": 13
        }
      ]
    },
    {
      "cell_type": "code",
      "source": [
        "numeros = [1,2,3,5,6,7,8,9,10,11,12]\n",
        "print(numeros)"
      ],
      "metadata": {
        "colab": {
          "base_uri": "https://localhost:8080/"
        },
        "id": "VovkhLQ_vZfP",
        "outputId": "f9224aea-412a-46fd-9436-cb017663292d"
      },
      "execution_count": 16,
      "outputs": [
        {
          "output_type": "stream",
          "name": "stdout",
          "text": [
            "[1, 2, 3, 5, 6, 7, 8, 9, 10, 11, 12]\n"
          ]
        }
      ]
    },
    {
      "cell_type": "code",
      "source": [
        "numeros.insert(3, 4)"
      ],
      "metadata": {
        "id": "kUKrOC7Mvbmw"
      },
      "execution_count": 17,
      "outputs": []
    },
    {
      "cell_type": "code",
      "source": [
        "numeros"
      ],
      "metadata": {
        "colab": {
          "base_uri": "https://localhost:8080/"
        },
        "id": "6IsbmwMgvqj6",
        "outputId": "881959ba-5ec1-4450-f5ff-a750696db855"
      },
      "execution_count": 18,
      "outputs": [
        {
          "output_type": "execute_result",
          "data": {
            "text/plain": [
              "[1, 2, 3, 4, 5, 6, 7, 8, 9, 10, 11, 12]"
            ]
          },
          "metadata": {},
          "execution_count": 18
        }
      ]
    },
    {
      "cell_type": "code",
      "source": [
        "personas = ['Pedrito', 'Maria', 'Jose', 'Carlitos','Fernanda', 'Raul', 'Cristina']\n",
        "print(len(personas))\n",
        "print(personas)"
      ],
      "metadata": {
        "colab": {
          "base_uri": "https://localhost:8080/"
        },
        "id": "MZvrrhyWvswp",
        "outputId": "d6776cf6-3ce9-4fb9-80e5-28d3d23b268e"
      },
      "execution_count": 21,
      "outputs": [
        {
          "output_type": "stream",
          "name": "stdout",
          "text": [
            "7\n",
            "['Pedrito', 'Maria', 'Jose', 'Carlitos', 'Fernanda', 'Raul', 'Cristina']\n"
          ]
        }
      ]
    },
    {
      "cell_type": "code",
      "source": [
        "len(personas) #len funciona para saber la longitud de una lista"
      ],
      "metadata": {
        "colab": {
          "base_uri": "https://localhost:8080/"
        },
        "id": "7VgafpQKv_WV",
        "outputId": "bcaeaf67-3d81-43f8-916f-e7bbcb7fd9f9"
      },
      "execution_count": 22,
      "outputs": [
        {
          "output_type": "execute_result",
          "data": {
            "text/plain": [
              "7"
            ]
          },
          "metadata": {},
          "execution_count": 22
        }
      ]
    },
    {
      "cell_type": "code",
      "source": [
        "personas.remove('Raul') #remove recibe el valor del elemento que vamos a eliminar \n",
        "personas"
      ],
      "metadata": {
        "colab": {
          "base_uri": "https://localhost:8080/"
        },
        "id": "ogMZoZXqwX5m",
        "outputId": "50f98ae8-489b-4a9b-e0e8-56e7243db4c2"
      },
      "execution_count": 23,
      "outputs": [
        {
          "output_type": "execute_result",
          "data": {
            "text/plain": [
              "['Pedrito', 'Maria', 'Jose', 'Carlitos', 'Fernanda', 'Cristina']"
            ]
          },
          "metadata": {},
          "execution_count": 23
        }
      ]
    },
    {
      "cell_type": "code",
      "source": [
        "personas.pop(1) #pop elimina un elemento, basado en el index"
      ],
      "metadata": {
        "colab": {
          "base_uri": "https://localhost:8080/",
          "height": 38
        },
        "id": "6gOYZv_bwfi2",
        "outputId": "e5eecf6e-61a9-4e31-bb9f-170bbe8a7a76"
      },
      "execution_count": 32,
      "outputs": [
        {
          "output_type": "execute_result",
          "data": {
            "text/plain": [
              "'Maria'"
            ],
            "application/vnd.google.colaboratory.intrinsic+json": {
              "type": "string"
            }
          },
          "metadata": {},
          "execution_count": 32
        }
      ]
    },
    {
      "cell_type": "code",
      "source": [
        "personas"
      ],
      "metadata": {
        "colab": {
          "base_uri": "https://localhost:8080/"
        },
        "id": "0m1jfQvSxA3O",
        "outputId": "235f2c86-d019-42b7-aa4a-c3dec58a9547"
      },
      "execution_count": 31,
      "outputs": [
        {
          "output_type": "execute_result",
          "data": {
            "text/plain": [
              "['Pedrito', 'Maria', 'Jose']"
            ]
          },
          "metadata": {},
          "execution_count": 31
        }
      ]
    },
    {
      "cell_type": "code",
      "source": [
        "personas2 = ['Pedrito', 'Pedrito', 'Juan', 'Juan', 'Maria', 'Juan']\n",
        "personas2"
      ],
      "metadata": {
        "colab": {
          "base_uri": "https://localhost:8080/"
        },
        "id": "0VvDgA8zxQyW",
        "outputId": "0f6e0ed7-0019-4e6d-8a07-da2a175adc76"
      },
      "execution_count": 46,
      "outputs": [
        {
          "output_type": "execute_result",
          "data": {
            "text/plain": [
              "['Pedrito', 'Pedrito', 'Juan', 'Juan', 'Maria', 'Juan']"
            ]
          },
          "metadata": {},
          "execution_count": 46
        }
      ]
    },
    {
      "cell_type": "code",
      "source": [
        "personas2.remove('Pedrito')"
      ],
      "metadata": {
        "id": "AQNwDSimxoLC"
      },
      "execution_count": 47,
      "outputs": []
    },
    {
      "cell_type": "code",
      "source": [
        "personas2"
      ],
      "metadata": {
        "colab": {
          "base_uri": "https://localhost:8080/"
        },
        "id": "_ilyqgBxxr3J",
        "outputId": "fcf21b62-6635-4cfc-f876-4193f1aa735a"
      },
      "execution_count": 48,
      "outputs": [
        {
          "output_type": "execute_result",
          "data": {
            "text/plain": [
              "['Pedrito', 'Juan', 'Juan', 'Maria', 'Juan']"
            ]
          },
          "metadata": {},
          "execution_count": 48
        }
      ]
    },
    {
      "cell_type": "code",
      "source": [
        "personas2.clear() #Esta funcion se utiliza para limpiar todos los elementos de una lista"
      ],
      "metadata": {
        "id": "IpBpYlSwxswc"
      },
      "execution_count": 49,
      "outputs": []
    },
    {
      "cell_type": "code",
      "source": [
        "personas2"
      ],
      "metadata": {
        "colab": {
          "base_uri": "https://localhost:8080/"
        },
        "id": "0uTnqtu2xzts",
        "outputId": "827c915a-0de1-43ad-c346-e2ff83b00ee3"
      },
      "execution_count": 50,
      "outputs": [
        {
          "output_type": "execute_result",
          "data": {
            "text/plain": [
              "[]"
            ]
          },
          "metadata": {},
          "execution_count": 50
        }
      ]
    },
    {
      "cell_type": "code",
      "source": [
        "personas2.append(\"Juan\")\n",
        "personas2.append(\"Carlitos\")\n",
        "personas2.append(\"Pedrito\")\n",
        "personas2.append(\"Juan\")"
      ],
      "metadata": {
        "id": "lKyN7aQ2x1Fa"
      },
      "execution_count": 51,
      "outputs": []
    },
    {
      "cell_type": "code",
      "source": [
        "personas2.append([\"K1\", \"K2\", \"K3\", \"K4\"])"
      ],
      "metadata": {
        "id": "l7VwA4z5y4r2"
      },
      "execution_count": 52,
      "outputs": []
    },
    {
      "cell_type": "code",
      "source": [
        "personas2"
      ],
      "metadata": {
        "colab": {
          "base_uri": "https://localhost:8080/"
        },
        "id": "G5AxD00KzP3I",
        "outputId": "97e06d46-d6a0-487e-ce49-caf1a5e212ba"
      },
      "execution_count": 53,
      "outputs": [
        {
          "output_type": "execute_result",
          "data": {
            "text/plain": [
              "['Juan', 'Carlitos', 'Pedrito', 'Juan', ['K1', 'K2', 'K3', 'K4']]"
            ]
          },
          "metadata": {},
          "execution_count": 53
        }
      ]
    },
    {
      "cell_type": "code",
      "source": [
        "len(personas2)"
      ],
      "metadata": {
        "colab": {
          "base_uri": "https://localhost:8080/"
        },
        "id": "82IjeIPS1yzw",
        "outputId": "6e8a74c0-8788-4e58-dfe6-33659b37ccf4"
      },
      "execution_count": 54,
      "outputs": [
        {
          "output_type": "execute_result",
          "data": {
            "text/plain": [
              "5"
            ]
          },
          "metadata": {},
          "execution_count": 54
        }
      ]
    },
    {
      "cell_type": "code",
      "source": [
        "personas2[4][2]"
      ],
      "metadata": {
        "colab": {
          "base_uri": "https://localhost:8080/",
          "height": 38
        },
        "id": "aMJgK24F2tLi",
        "outputId": "c18e1f58-a676-47b2-8791-e0d60b0287a2"
      },
      "execution_count": 55,
      "outputs": [
        {
          "output_type": "execute_result",
          "data": {
            "text/plain": [
              "'K3'"
            ],
            "application/vnd.google.colaboratory.intrinsic+json": {
              "type": "string"
            }
          },
          "metadata": {},
          "execution_count": 55
        }
      ]
    },
    {
      "cell_type": "markdown",
      "source": [],
      "metadata": {
        "id": "x1LN5nji1rPM"
      }
    },
    {
      "cell_type": "code",
      "source": [
        "personas2[4].append(['C1','C2','C3'])"
      ],
      "metadata": {
        "id": "yc_661Mo2wph"
      },
      "execution_count": 56,
      "outputs": []
    },
    {
      "cell_type": "code",
      "source": [
        "personas2"
      ],
      "metadata": {
        "colab": {
          "base_uri": "https://localhost:8080/"
        },
        "id": "S65b--p027dt",
        "outputId": "a976ae53-312b-4665-df55-5cae748cac1a"
      },
      "execution_count": 57,
      "outputs": [
        {
          "output_type": "execute_result",
          "data": {
            "text/plain": [
              "['Juan',\n",
              " 'Carlitos',\n",
              " 'Pedrito',\n",
              " 'Juan',\n",
              " ['K1', 'K2', 'K3', 'K4', ['C1', 'C2', 'C3']]]"
            ]
          },
          "metadata": {},
          "execution_count": 57
        }
      ]
    },
    {
      "cell_type": "code",
      "source": [
        "personas2[4][4][2]"
      ],
      "metadata": {
        "colab": {
          "base_uri": "https://localhost:8080/",
          "height": 38
        },
        "id": "0BEGiPW92_ov",
        "outputId": "7ace0ebd-e13c-4c0a-debe-4fd33f6f4228"
      },
      "execution_count": 58,
      "outputs": [
        {
          "output_type": "execute_result",
          "data": {
            "text/plain": [
              "'C3'"
            ],
            "application/vnd.google.colaboratory.intrinsic+json": {
              "type": "string"
            }
          },
          "metadata": {},
          "execution_count": 58
        }
      ]
    },
    {
      "cell_type": "code",
      "source": [
        "(personas2[4])[2]"
      ],
      "metadata": {
        "colab": {
          "base_uri": "https://localhost:8080/",
          "height": 38
        },
        "id": "4S4jXziM3LzH",
        "outputId": "a76b93c9-0feb-4876-d266-cf46cefba522"
      },
      "execution_count": 59,
      "outputs": [
        {
          "output_type": "execute_result",
          "data": {
            "text/plain": [
              "'K3'"
            ],
            "application/vnd.google.colaboratory.intrinsic+json": {
              "type": "string"
            }
          },
          "metadata": {},
          "execution_count": 59
        }
      ]
    },
    {
      "cell_type": "code",
      "source": [
        "frutas = ['Banano', 'Piña', 'Mango', 'Kiwi']"
      ],
      "metadata": {
        "id": "v5bRydNs3yIT"
      },
      "execution_count": 60,
      "outputs": []
    },
    {
      "cell_type": "code",
      "source": [
        "frutas_eliminada = frutas.pop(3)\n",
        "print(frutas_eliminada)"
      ],
      "metadata": {
        "colab": {
          "base_uri": "https://localhost:8080/"
        },
        "id": "WasICejK5Oki",
        "outputId": "de103d51-5dea-40dd-8d47-83a0b3b7650d"
      },
      "execution_count": 62,
      "outputs": [
        {
          "output_type": "stream",
          "name": "stdout",
          "text": [
            "Kiwi\n"
          ]
        }
      ]
    },
    {
      "cell_type": "code",
      "source": [
        "frutas"
      ],
      "metadata": {
        "colab": {
          "base_uri": "https://localhost:8080/"
        },
        "id": "myWlcekr5Zuj",
        "outputId": "4f98ca69-79ee-47fe-b650-00d323e06827"
      },
      "execution_count": 63,
      "outputs": [
        {
          "output_type": "execute_result",
          "data": {
            "text/plain": [
              "['Banano', 'Piña', 'Mango']"
            ]
          },
          "metadata": {},
          "execution_count": 63
        }
      ]
    },
    {
      "cell_type": "code",
      "source": [
        "print(f\"la fruta en la posicion 3 fue eliminada, y era: {frutas_eliminada}\")"
      ],
      "metadata": {
        "colab": {
          "base_uri": "https://localhost:8080/"
        },
        "id": "Hs0ZGLTi5llU",
        "outputId": "c259ddb1-1f30-4592-eae5-fc5db3e504fe"
      },
      "execution_count": 64,
      "outputs": [
        {
          "output_type": "stream",
          "name": "stdout",
          "text": [
            "la fruta en la posicion 3 fue eliminada, y era: Kiwi\n"
          ]
        }
      ]
    },
    {
      "cell_type": "code",
      "source": [
        "frutas.append('Kiwi')"
      ],
      "metadata": {
        "id": "Ejksiwjy64P3"
      },
      "execution_count": 65,
      "outputs": []
    },
    {
      "cell_type": "code",
      "source": [
        "frutas.append(frutas_eliminada)"
      ],
      "metadata": {
        "id": "h8KivgeB67Ie"
      },
      "execution_count": 66,
      "outputs": []
    },
    {
      "cell_type": "code",
      "source": [
        "frutas"
      ],
      "metadata": {
        "colab": {
          "base_uri": "https://localhost:8080/"
        },
        "id": "gxDFde3E7Bnu",
        "outputId": "56268f34-4e52-4f2a-dc8c-7c31de7d50eb"
      },
      "execution_count": 67,
      "outputs": [
        {
          "output_type": "execute_result",
          "data": {
            "text/plain": [
              "['Banano', 'Piña', 'Mango', 'Kiwi', 'Kiwi']"
            ]
          },
          "metadata": {},
          "execution_count": 67
        }
      ]
    },
    {
      "cell_type": "code",
      "source": [
        "nueva_lista = ['A1','A2', 'B1',['B2', 'B3', 'C1', ['C2','D1']]]"
      ],
      "metadata": {
        "id": "JovtNpd67Dik"
      },
      "execution_count": 68,
      "outputs": []
    },
    {
      "cell_type": "code",
      "source": [
        "len(nueva_lista)"
      ],
      "metadata": {
        "colab": {
          "base_uri": "https://localhost:8080/"
        },
        "id": "5yYtkxGS7RXh",
        "outputId": "cc8eaa57-e0b4-420d-d5c1-424e700e4239"
      },
      "execution_count": 69,
      "outputs": [
        {
          "output_type": "execute_result",
          "data": {
            "text/plain": [
              "4"
            ]
          },
          "metadata": {},
          "execution_count": 69
        }
      ]
    },
    {
      "cell_type": "code",
      "source": [
        "nueva_lista"
      ],
      "metadata": {
        "colab": {
          "base_uri": "https://localhost:8080/"
        },
        "id": "iFEM5i347UkO",
        "outputId": "cb8186ff-8c8a-4cb7-9441-ff3029e7fc97"
      },
      "execution_count": 70,
      "outputs": [
        {
          "output_type": "execute_result",
          "data": {
            "text/plain": [
              "['A1', 'A2', 'B1', ['B2', 'B3', 'C1', ['C2', 'D1']]]"
            ]
          },
          "metadata": {},
          "execution_count": 70
        }
      ]
    },
    {
      "cell_type": "code",
      "source": [
        "nueva_lista[3][3].pop(0)"
      ],
      "metadata": {
        "colab": {
          "base_uri": "https://localhost:8080/",
          "height": 38
        },
        "id": "NEYbL2h27Xp6",
        "outputId": "7c029afd-28e8-450c-eb77-bea4d96fc2bd"
      },
      "execution_count": 72,
      "outputs": [
        {
          "output_type": "execute_result",
          "data": {
            "text/plain": [
              "'C2'"
            ],
            "application/vnd.google.colaboratory.intrinsic+json": {
              "type": "string"
            }
          },
          "metadata": {},
          "execution_count": 72
        }
      ]
    },
    {
      "cell_type": "code",
      "source": [
        "nueva_lista"
      ],
      "metadata": {
        "colab": {
          "base_uri": "https://localhost:8080/"
        },
        "id": "SE5MdfFh7zAR",
        "outputId": "77f117db-232f-4fb8-c149-9251b3a98cb1"
      },
      "execution_count": 73,
      "outputs": [
        {
          "output_type": "execute_result",
          "data": {
            "text/plain": [
              "['A1', 'A2', 'B1', ['B2', 'B3', 'C1', ['D1']]]"
            ]
          },
          "metadata": {},
          "execution_count": 73
        }
      ]
    },
    {
      "cell_type": "code",
      "source": [
        "import numpy as np\n",
        "lista_larga = [np.random.randint(1000) for i in range(50)]"
      ],
      "metadata": {
        "id": "knd_w3wH75v3"
      },
      "execution_count": 79,
      "outputs": []
    },
    {
      "cell_type": "code",
      "source": [
        "lista_larga"
      ],
      "metadata": {
        "colab": {
          "base_uri": "https://localhost:8080/"
        },
        "id": "15rjhUVf8eCU",
        "outputId": "287a1202-61c3-4d21-9c21-6e86807339a8"
      },
      "execution_count": 80,
      "outputs": [
        {
          "output_type": "execute_result",
          "data": {
            "text/plain": [
              "[3,\n",
              " 207,\n",
              " 979,\n",
              " 170,\n",
              " 218,\n",
              " 624,\n",
              " 399,\n",
              " 764,\n",
              " 16,\n",
              " 259,\n",
              " 183,\n",
              " 722,\n",
              " 585,\n",
              " 563,\n",
              " 863,\n",
              " 75,\n",
              " 878,\n",
              " 414,\n",
              " 692,\n",
              " 320,\n",
              " 913,\n",
              " 601,\n",
              " 167,\n",
              " 909,\n",
              " 996,\n",
              " 756,\n",
              " 622,\n",
              " 585,\n",
              " 941,\n",
              " 116,\n",
              " 958,\n",
              " 81,\n",
              " 529,\n",
              " 293,\n",
              " 0,\n",
              " 652,\n",
              " 516,\n",
              " 50,\n",
              " 488,\n",
              " 638,\n",
              " 399,\n",
              " 193,\n",
              " 941,\n",
              " 738,\n",
              " 488,\n",
              " 867,\n",
              " 873,\n",
              " 569,\n",
              " 241,\n",
              " 44]"
            ]
          },
          "metadata": {},
          "execution_count": 80
        }
      ]
    },
    {
      "cell_type": "code",
      "source": [
        "lista_larga[len(lista_larga) - 1]"
      ],
      "metadata": {
        "colab": {
          "base_uri": "https://localhost:8080/"
        },
        "id": "8doAlu3h82PX",
        "outputId": "e9805416-8e53-4785-bd49-47e9d26b5ac0"
      },
      "execution_count": 85,
      "outputs": [
        {
          "output_type": "execute_result",
          "data": {
            "text/plain": [
              "44"
            ]
          },
          "metadata": {},
          "execution_count": 85
        }
      ]
    },
    {
      "cell_type": "code",
      "source": [
        "lista_larga[-1]"
      ],
      "metadata": {
        "colab": {
          "base_uri": "https://localhost:8080/"
        },
        "id": "ErH2qYlk8frk",
        "outputId": "5fd0efd7-2440-444f-e88f-8fc3114ce933"
      },
      "execution_count": 86,
      "outputs": [
        {
          "output_type": "execute_result",
          "data": {
            "text/plain": [
              "44"
            ]
          },
          "metadata": {},
          "execution_count": 86
        }
      ]
    },
    {
      "cell_type": "code",
      "source": [
        "frutas = [\"Banano\", \"Mango\", \"Kiwi\"]\n",
        "verduras = [\"Platano\", \"Yuca\", \"Pimenton\"]"
      ],
      "metadata": {
        "id": "_p8zxvem9CL_"
      },
      "execution_count": 87,
      "outputs": []
    },
    {
      "cell_type": "code",
      "source": [
        "legumbreria = frutas + verduras\n",
        "legumbreria"
      ],
      "metadata": {
        "colab": {
          "base_uri": "https://localhost:8080/"
        },
        "id": "quKdv_Ll_VtH",
        "outputId": "078d43cc-95a6-49c0-ccc8-a6bf1dbf1bf5"
      },
      "execution_count": 91,
      "outputs": [
        {
          "output_type": "execute_result",
          "data": {
            "text/plain": [
              "['Banano', 'Mango', 'Kiwi', 'Platano', 'Yuca', 'Pimenton']"
            ]
          },
          "metadata": {},
          "execution_count": 91
        }
      ]
    },
    {
      "cell_type": "code",
      "source": [
        "numeros = [1, 10, 5, 3, 4, 9]\n",
        "numeros"
      ],
      "metadata": {
        "colab": {
          "base_uri": "https://localhost:8080/"
        },
        "id": "8xX1X_ns_ZF2",
        "outputId": "2b76e91f-0663-477b-d87c-0d0eda32a5a7"
      },
      "execution_count": 95,
      "outputs": [
        {
          "output_type": "execute_result",
          "data": {
            "text/plain": [
              "[1, 10, 5, 3, 4, 9]"
            ]
          },
          "metadata": {},
          "execution_count": 95
        }
      ]
    },
    {
      "cell_type": "code",
      "source": [
        "numeros * 2"
      ],
      "metadata": {
        "colab": {
          "base_uri": "https://localhost:8080/"
        },
        "id": "Fg4Fktnz_rzg",
        "outputId": "fe837dd4-4868-44de-86ad-681523a60387"
      },
      "execution_count": 97,
      "outputs": [
        {
          "output_type": "execute_result",
          "data": {
            "text/plain": [
              "[1, 10, 5, 3, 4, 9, 1, 10, 5, 3, 4, 9]"
            ]
          },
          "metadata": {},
          "execution_count": 97
        }
      ]
    },
    {
      "cell_type": "code",
      "source": [
        "frutas = ['Banano', 'Mango', 'Coco']\n",
        "frutas = frutas * 5"
      ],
      "metadata": {
        "id": "QE5smDay_yPW"
      },
      "execution_count": 99,
      "outputs": []
    },
    {
      "cell_type": "code",
      "source": [
        "len(frutas)"
      ],
      "metadata": {
        "colab": {
          "base_uri": "https://localhost:8080/"
        },
        "id": "gBbxhTI3Ar5n",
        "outputId": "1e55e70d-ccb5-4651-81cb-bb59b2968fa8"
      },
      "execution_count": 100,
      "outputs": [
        {
          "output_type": "execute_result",
          "data": {
            "text/plain": [
              "15"
            ]
          },
          "metadata": {},
          "execution_count": 100
        }
      ]
    },
    {
      "cell_type": "code",
      "source": [
        "frutas"
      ],
      "metadata": {
        "colab": {
          "base_uri": "https://localhost:8080/"
        },
        "id": "kFHGUaeoAxdV",
        "outputId": "5ccb59c2-226a-465e-c144-460e5150f660"
      },
      "execution_count": 101,
      "outputs": [
        {
          "output_type": "execute_result",
          "data": {
            "text/plain": [
              "['Banano',\n",
              " 'Mango',\n",
              " 'Coco',\n",
              " 'Banano',\n",
              " 'Mango',\n",
              " 'Coco',\n",
              " 'Banano',\n",
              " 'Mango',\n",
              " 'Coco',\n",
              " 'Banano',\n",
              " 'Mango',\n",
              " 'Coco',\n",
              " 'Banano',\n",
              " 'Mango',\n",
              " 'Coco']"
            ]
          },
          "metadata": {},
          "execution_count": 101
        }
      ]
    },
    {
      "cell_type": "code",
      "source": [
        " colores = ['Rojo', 'Amarillo', 'Verde', 'Fucsia', 'Lila', 'Azul', 'Negro']"
      ],
      "metadata": {
        "id": "SAi6z8LwAyyf"
      },
      "execution_count": 109,
      "outputs": []
    },
    {
      "cell_type": "code",
      "source": [
        "colores"
      ],
      "metadata": {
        "colab": {
          "base_uri": "https://localhost:8080/"
        },
        "id": "iYwUWPR7BVvD",
        "outputId": "32845ed3-5b6d-4249-fea6-1a030c4646ce"
      },
      "execution_count": 110,
      "outputs": [
        {
          "output_type": "execute_result",
          "data": {
            "text/plain": [
              "['Rojo', 'Amarillo', 'Verde', 'Fucsia', 'Lila', 'Azul', 'Negro']"
            ]
          },
          "metadata": {},
          "execution_count": 110
        }
      ]
    },
    {
      "cell_type": "code",
      "source": [
        "colores[1]"
      ],
      "metadata": {
        "colab": {
          "base_uri": "https://localhost:8080/",
          "height": 38
        },
        "id": "h0y6KGFHBWqV",
        "outputId": "90234b1a-efd5-4180-c480-b9d7f4e0c10a"
      },
      "execution_count": 104,
      "outputs": [
        {
          "output_type": "execute_result",
          "data": {
            "text/plain": [
              "'Amarillo'"
            ],
            "application/vnd.google.colaboratory.intrinsic+json": {
              "type": "string"
            }
          },
          "metadata": {},
          "execution_count": 104
        }
      ]
    },
    {
      "cell_type": "code",
      "source": [
        "colores[-2]"
      ],
      "metadata": {
        "colab": {
          "base_uri": "https://localhost:8080/",
          "height": 38
        },
        "id": "KdXiFmpHBX4i",
        "outputId": "8202f269-3a83-49dc-9726-05ffccabca51"
      },
      "execution_count": 105,
      "outputs": [
        {
          "output_type": "execute_result",
          "data": {
            "text/plain": [
              "'Azul'"
            ],
            "application/vnd.google.colaboratory.intrinsic+json": {
              "type": "string"
            }
          },
          "metadata": {},
          "execution_count": 105
        }
      ]
    },
    {
      "cell_type": "code",
      "source": [
        "colores[1:-1]"
      ],
      "metadata": {
        "colab": {
          "base_uri": "https://localhost:8080/"
        },
        "id": "rpLjgAkjBaHh",
        "outputId": "f81d119e-bacf-457c-941c-54c1a410245d"
      },
      "execution_count": 107,
      "outputs": [
        {
          "output_type": "execute_result",
          "data": {
            "text/plain": [
              "['Amarillo', 'Verde', 'Fucsia', 'Lila', 'Azul']"
            ]
          },
          "metadata": {},
          "execution_count": 107
        }
      ]
    },
    {
      "cell_type": "code",
      "source": [
        "colores[-1]"
      ],
      "metadata": {
        "colab": {
          "base_uri": "https://localhost:8080/",
          "height": 38
        },
        "id": "KIe87zrCBeDB",
        "outputId": "4714e608-dc12-4d86-df90-8dc75b53fcba"
      },
      "execution_count": 108,
      "outputs": [
        {
          "output_type": "execute_result",
          "data": {
            "text/plain": [
              "'Negro'"
            ],
            "application/vnd.google.colaboratory.intrinsic+json": {
              "type": "string"
            }
          },
          "metadata": {},
          "execution_count": 108
        }
      ]
    },
    {
      "cell_type": "code",
      "source": [
        "colores.sort()"
      ],
      "metadata": {
        "id": "n2YmjS2bBj1i"
      },
      "execution_count": 111,
      "outputs": []
    },
    {
      "cell_type": "code",
      "source": [
        "lista2 = ['Ana', 'Zapata', 'Aña']"
      ],
      "metadata": {
        "id": "HkfnJ7ufCVw0"
      },
      "execution_count": 112,
      "outputs": []
    },
    {
      "cell_type": "code",
      "source": [
        "lista2"
      ],
      "metadata": {
        "colab": {
          "base_uri": "https://localhost:8080/"
        },
        "id": "E0G8pnPdCcQh",
        "outputId": "fc6da4c4-bac8-46e5-b4f9-85a921d1cfdf"
      },
      "execution_count": 113,
      "outputs": [
        {
          "output_type": "execute_result",
          "data": {
            "text/plain": [
              "['Ana', 'Zapata', 'Aña']"
            ]
          },
          "metadata": {},
          "execution_count": 113
        }
      ]
    },
    {
      "cell_type": "code",
      "source": [
        "lista2.sort()"
      ],
      "metadata": {
        "id": "cfm_EaoYCdqo"
      },
      "execution_count": 114,
      "outputs": []
    },
    {
      "cell_type": "code",
      "source": [
        "lista2"
      ],
      "metadata": {
        "colab": {
          "base_uri": "https://localhost:8080/"
        },
        "id": "tOLE8CiGCiN4",
        "outputId": "d5ba97a9-fb02-4ecc-fca7-f842f52fd375"
      },
      "execution_count": 115,
      "outputs": [
        {
          "output_type": "execute_result",
          "data": {
            "text/plain": [
              "['Ana', 'Aña', 'Zapata']"
            ]
          },
          "metadata": {},
          "execution_count": 115
        }
      ]
    },
    {
      "cell_type": "markdown",
      "source": [
        "##CICLOS\n",
        "\n",
        "##CICLO *FOR*: Nosotros a priori la contidad de interaciones que vamos a hacer. \n",
        "\n",
        "* Ciclo *While*: Nosotros no conocemos la cantidad de veces que vamos a realizar una accion, la acción se va a ejecutar hasta que se cumpla o no una condicion"
      ],
      "metadata": {
        "id": "IZfA1zjaEKOI"
      }
    },
    {
      "cell_type": "code",
      "source": [
        "for paciente in range (1, 11, 1): #rango(incial, final, pasos o incremento  )\n",
        "  print(paciente)"
      ],
      "metadata": {
        "colab": {
          "base_uri": "https://localhost:8080/"
        },
        "id": "c9st8hR3E71v",
        "outputId": "4c703e89-16c4-471d-e96e-2e5291bde84e"
      },
      "execution_count": 120,
      "outputs": [
        {
          "output_type": "stream",
          "name": "stdout",
          "text": [
            "1\n",
            "2\n",
            "3\n",
            "4\n",
            "5\n",
            "6\n",
            "7\n",
            "8\n",
            "9\n",
            "10\n"
          ]
        }
      ]
    },
    {
      "cell_type": "code",
      "source": [
        "frutas = ['banano', 'mango', 'papaya', 'kiwi']\n",
        "print(frutas[0])\n",
        "print(frutas[1])\n",
        "print(frutas[2])\n",
        "print(frutas[3])"
      ],
      "metadata": {
        "colab": {
          "base_uri": "https://localhost:8080/"
        },
        "id": "YjnPsRR7FAEP",
        "outputId": "0979d6a7-ce01-443c-cfb2-e5734edab801"
      },
      "execution_count": 122,
      "outputs": [
        {
          "output_type": "stream",
          "name": "stdout",
          "text": [
            "banano\n",
            "mango\n",
            "papaya\n",
            "kiwi\n"
          ]
        }
      ]
    },
    {
      "cell_type": "code",
      "source": [
        "for fruta in frutas:\n",
        "  print(fruta)"
      ],
      "metadata": {
        "colab": {
          "base_uri": "https://localhost:8080/"
        },
        "id": "oL3MIaFmIaI2",
        "outputId": "0dbb7b5f-4980-486c-9e57-88b4a9215b88"
      },
      "execution_count": 123,
      "outputs": [
        {
          "output_type": "stream",
          "name": "stdout",
          "text": [
            "banano\n",
            "mango\n",
            "papaya\n",
            "kiwi\n"
          ]
        }
      ]
    },
    {
      "cell_type": "code",
      "source": [
        "for x in frutas:\n",
        "  print(x)"
      ],
      "metadata": {
        "colab": {
          "base_uri": "https://localhost:8080/"
        },
        "id": "W95WHDZRI1T3",
        "outputId": "02334320-84bf-4403-c0c6-a3aebf304bc6"
      },
      "execution_count": 124,
      "outputs": [
        {
          "output_type": "stream",
          "name": "stdout",
          "text": [
            "banano\n",
            "mango\n",
            "papaya\n",
            "kiwi\n"
          ]
        }
      ]
    },
    {
      "cell_type": "code",
      "source": [
        "for fruta in frutas[::-1]:\n",
        "  print(fruta)\n",
        "  "
      ],
      "metadata": {
        "colab": {
          "base_uri": "https://localhost:8080/"
        },
        "id": "x85CAFKlKyD2",
        "outputId": "066245fa-b0e1-4aaf-fab9-f5f4ee2719bb"
      },
      "execution_count": 126,
      "outputs": [
        {
          "output_type": "stream",
          "name": "stdout",
          "text": [
            "kiwi\n",
            "papaya\n",
            "mango\n",
            "banano\n"
          ]
        }
      ]
    },
    {
      "cell_type": "code",
      "source": [],
      "metadata": {
        "id": "vGWg2tTMJ3-z"
      },
      "execution_count": null,
      "outputs": []
    }
  ]
}