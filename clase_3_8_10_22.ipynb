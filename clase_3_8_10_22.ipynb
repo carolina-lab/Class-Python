{
  "nbformat": 4,
  "nbformat_minor": 0,
  "metadata": {
    "colab": {
      "provenance": [],
      "authorship_tag": "ABX9TyOBSBb/a3yliATlMGOAVx0c",
      "include_colab_link": true
    },
    "kernelspec": {
      "name": "python3",
      "display_name": "Python 3"
    },
    "language_info": {
      "name": "python"
    }
  },
  "cells": [
    {
      "cell_type": "markdown",
      "metadata": {
        "id": "view-in-github",
        "colab_type": "text"
      },
      "source": [
        "<a href=\"https://colab.research.google.com/github/carolina-lab/Class-Python/blob/main/clase_3_8_10_22.ipynb\" target=\"_parent\"><img src=\"https://colab.research.google.com/assets/colab-badge.svg\" alt=\"Open In Colab\"/></a>"
      ]
    },
    {
      "cell_type": "code",
      "execution_count": null,
      "metadata": {
        "id": "6uBXb9K2sTpx"
      },
      "outputs": [],
      "source": [
        "mi_lista = [1, 2, 3, 4, 5]"
      ]
    },
    {
      "cell_type": "code",
      "source": [
        "print(mi_lista)"
      ],
      "metadata": {
        "colab": {
          "base_uri": "https://localhost:8080/"
        },
        "id": "JNLwOL3Zs0Sn",
        "outputId": "c06e0b26-55ab-4982-93eb-e16ecf721167"
      },
      "execution_count": null,
      "outputs": [
        {
          "output_type": "stream",
          "name": "stdout",
          "text": [
            "[1, 2, 3, 4, 5]\n"
          ]
        }
      ]
    },
    {
      "cell_type": "code",
      "source": [
        "frutas = ['Banano', 'Papaya', 'Kiwi', 'Mango']\n",
        "print(frutas)"
      ],
      "metadata": {
        "colab": {
          "base_uri": "https://localhost:8080/"
        },
        "id": "vV9dq-QJs4Eh",
        "outputId": "eefef4e4-b42c-4a31-9946-b3ae1b5cd09a"
      },
      "execution_count": null,
      "outputs": [
        {
          "output_type": "stream",
          "name": "stdout",
          "text": [
            "['Banano', 'Papaya', 'Kiwi', 'Mango']\n"
          ]
        }
      ]
    },
    {
      "cell_type": "code",
      "source": [
        "frutas[0]"
      ],
      "metadata": {
        "colab": {
          "base_uri": "https://localhost:8080/",
          "height": 38
        },
        "id": "aYfigR1ptB7S",
        "outputId": "11be839a-7ae9-4732-dac6-df6370361a8d"
      },
      "execution_count": null,
      "outputs": [
        {
          "output_type": "execute_result",
          "data": {
            "text/plain": [
              "'Banano'"
            ],
            "application/vnd.google.colaboratory.intrinsic+json": {
              "type": "string"
            }
          },
          "metadata": {},
          "execution_count": 8
        }
      ]
    },
    {
      "cell_type": "code",
      "source": [
        "frutas[3]"
      ],
      "metadata": {
        "colab": {
          "base_uri": "https://localhost:8080/",
          "height": 38
        },
        "id": "k8OjIggJuURS",
        "outputId": "8bc1e9f9-92fb-4140-c1e4-be3efcea8d2d"
      },
      "execution_count": null,
      "outputs": [
        {
          "output_type": "execute_result",
          "data": {
            "text/plain": [
              "'Mango'"
            ],
            "application/vnd.google.colaboratory.intrinsic+json": {
              "type": "string"
            }
          },
          "metadata": {},
          "execution_count": 9
        }
      ]
    },
    {
      "cell_type": "code",
      "source": [
        "frutas[3]\n",
        "print(1+1)\n",
        "print(2+2)\n",
        "print(10+10)"
      ],
      "metadata": {
        "colab": {
          "base_uri": "https://localhost:8080/"
        },
        "id": "_aTlmgWouZ_J",
        "outputId": "380a1498-bf20-4a1f-c21f-0180f8997115"
      },
      "execution_count": null,
      "outputs": [
        {
          "output_type": "stream",
          "name": "stdout",
          "text": [
            "2\n",
            "4\n",
            "20\n"
          ]
        }
      ]
    },
    {
      "cell_type": "code",
      "source": [
        "frutas.append('Melón')"
      ],
      "metadata": {
        "id": "sWPOo_zUuo_c"
      },
      "execution_count": null,
      "outputs": []
    },
    {
      "cell_type": "code",
      "source": [
        "frutas"
      ],
      "metadata": {
        "colab": {
          "base_uri": "https://localhost:8080/"
        },
        "id": "gaHU-RzJvYi8",
        "outputId": "5ba2e6a3-7ec5-492b-b1e7-83fd17738d3b"
      },
      "execution_count": null,
      "outputs": [
        {
          "output_type": "execute_result",
          "data": {
            "text/plain": [
              "['Banano', 'Papaya', 'Kiwi', 'Mango', 'Melón']"
            ]
          },
          "metadata": {},
          "execution_count": 13
        }
      ]
    },
    {
      "cell_type": "code",
      "source": [
        "numeros = [1,2,3,5,6,7,8,9,10,11,12]\n",
        "print(numeros)"
      ],
      "metadata": {
        "colab": {
          "base_uri": "https://localhost:8080/"
        },
        "id": "VovkhLQ_vZfP",
        "outputId": "f9224aea-412a-46fd-9436-cb017663292d"
      },
      "execution_count": null,
      "outputs": [
        {
          "output_type": "stream",
          "name": "stdout",
          "text": [
            "[1, 2, 3, 5, 6, 7, 8, 9, 10, 11, 12]\n"
          ]
        }
      ]
    },
    {
      "cell_type": "code",
      "source": [
        "numeros.insert(3, 4)"
      ],
      "metadata": {
        "id": "kUKrOC7Mvbmw"
      },
      "execution_count": null,
      "outputs": []
    },
    {
      "cell_type": "markdown",
      "source": [
        " "
      ],
      "metadata": {
        "id": "y92gBI5z0tMO"
      }
    },
    {
      "cell_type": "code",
      "source": [
        "numeros"
      ],
      "metadata": {
        "colab": {
          "base_uri": "https://localhost:8080/"
        },
        "id": "6IsbmwMgvqj6",
        "outputId": "881959ba-5ec1-4450-f5ff-a750696db855"
      },
      "execution_count": null,
      "outputs": [
        {
          "output_type": "execute_result",
          "data": {
            "text/plain": [
              "[1, 2, 3, 4, 5, 6, 7, 8, 9, 10, 11, 12]"
            ]
          },
          "metadata": {},
          "execution_count": 18
        }
      ]
    },
    {
      "cell_type": "code",
      "source": [
        "personas = ['Pedrito', 'Maria', 'Jose', 'Carlitos','Fernanda', 'Raul', 'Cristina']\n",
        "print(len(personas))\n",
        "print(personas)"
      ],
      "metadata": {
        "colab": {
          "base_uri": "https://localhost:8080/"
        },
        "id": "MZvrrhyWvswp",
        "outputId": "d6776cf6-3ce9-4fb9-80e5-28d3d23b268e"
      },
      "execution_count": null,
      "outputs": [
        {
          "output_type": "stream",
          "name": "stdout",
          "text": [
            "7\n",
            "['Pedrito', 'Maria', 'Jose', 'Carlitos', 'Fernanda', 'Raul', 'Cristina']\n"
          ]
        }
      ]
    },
    {
      "cell_type": "code",
      "source": [
        "len(personas) #len funciona para saber la longitud de una lista"
      ],
      "metadata": {
        "colab": {
          "base_uri": "https://localhost:8080/"
        },
        "id": "7VgafpQKv_WV",
        "outputId": "bcaeaf67-3d81-43f8-916f-e7bbcb7fd9f9"
      },
      "execution_count": null,
      "outputs": [
        {
          "output_type": "execute_result",
          "data": {
            "text/plain": [
              "7"
            ]
          },
          "metadata": {},
          "execution_count": 22
        }
      ]
    },
    {
      "cell_type": "code",
      "source": [
        "personas.remove('Raul') #remove recibe el valor del elemento que vamos a eliminar \n",
        "personas"
      ],
      "metadata": {
        "colab": {
          "base_uri": "https://localhost:8080/"
        },
        "id": "ogMZoZXqwX5m",
        "outputId": "50f98ae8-489b-4a9b-e0e8-56e7243db4c2"
      },
      "execution_count": null,
      "outputs": [
        {
          "output_type": "execute_result",
          "data": {
            "text/plain": [
              "['Pedrito', 'Maria', 'Jose', 'Carlitos', 'Fernanda', 'Cristina']"
            ]
          },
          "metadata": {},
          "execution_count": 23
        }
      ]
    },
    {
      "cell_type": "code",
      "source": [
        "personas.pop(1) #pop elimina un elemento, basado en el index"
      ],
      "metadata": {
        "colab": {
          "base_uri": "https://localhost:8080/",
          "height": 38
        },
        "id": "6gOYZv_bwfi2",
        "outputId": "e5eecf6e-61a9-4e31-bb9f-170bbe8a7a76"
      },
      "execution_count": null,
      "outputs": [
        {
          "output_type": "execute_result",
          "data": {
            "text/plain": [
              "'Maria'"
            ],
            "application/vnd.google.colaboratory.intrinsic+json": {
              "type": "string"
            }
          },
          "metadata": {},
          "execution_count": 32
        }
      ]
    },
    {
      "cell_type": "code",
      "source": [
        "personas"
      ],
      "metadata": {
        "colab": {
          "base_uri": "https://localhost:8080/"
        },
        "id": "0m1jfQvSxA3O",
        "outputId": "235f2c86-d019-42b7-aa4a-c3dec58a9547"
      },
      "execution_count": null,
      "outputs": [
        {
          "output_type": "execute_result",
          "data": {
            "text/plain": [
              "['Pedrito', 'Maria', 'Jose']"
            ]
          },
          "metadata": {},
          "execution_count": 31
        }
      ]
    },
    {
      "cell_type": "code",
      "source": [
        "personas2 = ['Pedrito', 'Pedrito', 'Juan', 'Juan', 'Maria', 'Juan']\n",
        "personas2"
      ],
      "metadata": {
        "colab": {
          "base_uri": "https://localhost:8080/"
        },
        "id": "0VvDgA8zxQyW",
        "outputId": "0f6e0ed7-0019-4e6d-8a07-da2a175adc76"
      },
      "execution_count": null,
      "outputs": [
        {
          "output_type": "execute_result",
          "data": {
            "text/plain": [
              "['Pedrito', 'Pedrito', 'Juan', 'Juan', 'Maria', 'Juan']"
            ]
          },
          "metadata": {},
          "execution_count": 46
        }
      ]
    },
    {
      "cell_type": "code",
      "source": [
        "personas2.remove('Pedrito')"
      ],
      "metadata": {
        "id": "AQNwDSimxoLC"
      },
      "execution_count": null,
      "outputs": []
    },
    {
      "cell_type": "code",
      "source": [
        "personas2"
      ],
      "metadata": {
        "colab": {
          "base_uri": "https://localhost:8080/"
        },
        "id": "_ilyqgBxxr3J",
        "outputId": "fcf21b62-6635-4cfc-f876-4193f1aa735a"
      },
      "execution_count": null,
      "outputs": [
        {
          "output_type": "execute_result",
          "data": {
            "text/plain": [
              "['Pedrito', 'Juan', 'Juan', 'Maria', 'Juan']"
            ]
          },
          "metadata": {},
          "execution_count": 48
        }
      ]
    },
    {
      "cell_type": "code",
      "source": [
        "personas2.clear() #Esta funcion se utiliza para limpiar todos los elementos de una lista"
      ],
      "metadata": {
        "id": "IpBpYlSwxswc"
      },
      "execution_count": null,
      "outputs": []
    },
    {
      "cell_type": "code",
      "source": [
        "personas2"
      ],
      "metadata": {
        "colab": {
          "base_uri": "https://localhost:8080/"
        },
        "id": "0uTnqtu2xzts",
        "outputId": "827c915a-0de1-43ad-c346-e2ff83b00ee3"
      },
      "execution_count": null,
      "outputs": [
        {
          "output_type": "execute_result",
          "data": {
            "text/plain": [
              "[]"
            ]
          },
          "metadata": {},
          "execution_count": 50
        }
      ]
    },
    {
      "cell_type": "code",
      "source": [
        "personas2.append(\"Juan\")\n",
        "personas2.append(\"Carlitos\")\n",
        "personas2.append(\"Pedrito\")\n",
        "personas2.append(\"Juan\")"
      ],
      "metadata": {
        "id": "lKyN7aQ2x1Fa"
      },
      "execution_count": null,
      "outputs": []
    },
    {
      "cell_type": "code",
      "source": [
        "personas2.append([\"K1\", \"K2\", \"K3\", \"K4\"])"
      ],
      "metadata": {
        "id": "l7VwA4z5y4r2"
      },
      "execution_count": null,
      "outputs": []
    },
    {
      "cell_type": "code",
      "source": [
        "personas2"
      ],
      "metadata": {
        "colab": {
          "base_uri": "https://localhost:8080/"
        },
        "id": "G5AxD00KzP3I",
        "outputId": "97e06d46-d6a0-487e-ce49-caf1a5e212ba"
      },
      "execution_count": null,
      "outputs": [
        {
          "output_type": "execute_result",
          "data": {
            "text/plain": [
              "['Juan', 'Carlitos', 'Pedrito', 'Juan', ['K1', 'K2', 'K3', 'K4']]"
            ]
          },
          "metadata": {},
          "execution_count": 53
        }
      ]
    },
    {
      "cell_type": "code",
      "source": [
        "len(personas2)"
      ],
      "metadata": {
        "colab": {
          "base_uri": "https://localhost:8080/"
        },
        "id": "82IjeIPS1yzw",
        "outputId": "6e8a74c0-8788-4e58-dfe6-33659b37ccf4"
      },
      "execution_count": null,
      "outputs": [
        {
          "output_type": "execute_result",
          "data": {
            "text/plain": [
              "5"
            ]
          },
          "metadata": {},
          "execution_count": 54
        }
      ]
    },
    {
      "cell_type": "code",
      "source": [
        "personas2[4][2]"
      ],
      "metadata": {
        "colab": {
          "base_uri": "https://localhost:8080/",
          "height": 38
        },
        "id": "aMJgK24F2tLi",
        "outputId": "c18e1f58-a676-47b2-8791-e0d60b0287a2"
      },
      "execution_count": null,
      "outputs": [
        {
          "output_type": "execute_result",
          "data": {
            "text/plain": [
              "'K3'"
            ],
            "application/vnd.google.colaboratory.intrinsic+json": {
              "type": "string"
            }
          },
          "metadata": {},
          "execution_count": 55
        }
      ]
    },
    {
      "cell_type": "markdown",
      "source": [],
      "metadata": {
        "id": "x1LN5nji1rPM"
      }
    },
    {
      "cell_type": "code",
      "source": [
        "personas2[4].append(['C1','C2','C3'])"
      ],
      "metadata": {
        "id": "yc_661Mo2wph"
      },
      "execution_count": null,
      "outputs": []
    },
    {
      "cell_type": "code",
      "source": [
        "personas2"
      ],
      "metadata": {
        "colab": {
          "base_uri": "https://localhost:8080/"
        },
        "id": "S65b--p027dt",
        "outputId": "a976ae53-312b-4665-df55-5cae748cac1a"
      },
      "execution_count": null,
      "outputs": [
        {
          "output_type": "execute_result",
          "data": {
            "text/plain": [
              "['Juan',\n",
              " 'Carlitos',\n",
              " 'Pedrito',\n",
              " 'Juan',\n",
              " ['K1', 'K2', 'K3', 'K4', ['C1', 'C2', 'C3']]]"
            ]
          },
          "metadata": {},
          "execution_count": 57
        }
      ]
    },
    {
      "cell_type": "code",
      "source": [
        "personas2[4][4][2]"
      ],
      "metadata": {
        "colab": {
          "base_uri": "https://localhost:8080/",
          "height": 38
        },
        "id": "0BEGiPW92_ov",
        "outputId": "7ace0ebd-e13c-4c0a-debe-4fd33f6f4228"
      },
      "execution_count": null,
      "outputs": [
        {
          "output_type": "execute_result",
          "data": {
            "text/plain": [
              "'C3'"
            ],
            "application/vnd.google.colaboratory.intrinsic+json": {
              "type": "string"
            }
          },
          "metadata": {},
          "execution_count": 58
        }
      ]
    },
    {
      "cell_type": "code",
      "source": [
        "(personas2[4])[2]"
      ],
      "metadata": {
        "colab": {
          "base_uri": "https://localhost:8080/",
          "height": 38
        },
        "id": "4S4jXziM3LzH",
        "outputId": "a76b93c9-0feb-4876-d266-cf46cefba522"
      },
      "execution_count": null,
      "outputs": [
        {
          "output_type": "execute_result",
          "data": {
            "text/plain": [
              "'K3'"
            ],
            "application/vnd.google.colaboratory.intrinsic+json": {
              "type": "string"
            }
          },
          "metadata": {},
          "execution_count": 59
        }
      ]
    },
    {
      "cell_type": "code",
      "source": [
        "frutas = ['Banano', 'Piña', 'Mango', 'Kiwi']"
      ],
      "metadata": {
        "id": "v5bRydNs3yIT"
      },
      "execution_count": null,
      "outputs": []
    },
    {
      "cell_type": "code",
      "source": [
        "frutas_eliminada = frutas.pop(3)\n",
        "print(frutas_eliminada)"
      ],
      "metadata": {
        "colab": {
          "base_uri": "https://localhost:8080/"
        },
        "id": "WasICejK5Oki",
        "outputId": "de103d51-5dea-40dd-8d47-83a0b3b7650d"
      },
      "execution_count": null,
      "outputs": [
        {
          "output_type": "stream",
          "name": "stdout",
          "text": [
            "Kiwi\n"
          ]
        }
      ]
    },
    {
      "cell_type": "code",
      "source": [
        "frutas"
      ],
      "metadata": {
        "colab": {
          "base_uri": "https://localhost:8080/"
        },
        "id": "myWlcekr5Zuj",
        "outputId": "4f98ca69-79ee-47fe-b650-00d323e06827"
      },
      "execution_count": null,
      "outputs": [
        {
          "output_type": "execute_result",
          "data": {
            "text/plain": [
              "['Banano', 'Piña', 'Mango']"
            ]
          },
          "metadata": {},
          "execution_count": 63
        }
      ]
    },
    {
      "cell_type": "code",
      "source": [
        "print(f\"la fruta en la posicion 3 fue eliminada, y era: {frutas_eliminada}\")"
      ],
      "metadata": {
        "colab": {
          "base_uri": "https://localhost:8080/"
        },
        "id": "Hs0ZGLTi5llU",
        "outputId": "c259ddb1-1f30-4592-eae5-fc5db3e504fe"
      },
      "execution_count": null,
      "outputs": [
        {
          "output_type": "stream",
          "name": "stdout",
          "text": [
            "la fruta en la posicion 3 fue eliminada, y era: Kiwi\n"
          ]
        }
      ]
    },
    {
      "cell_type": "code",
      "source": [
        "frutas.append('Kiwi')"
      ],
      "metadata": {
        "id": "Ejksiwjy64P3"
      },
      "execution_count": null,
      "outputs": []
    },
    {
      "cell_type": "code",
      "source": [
        "frutas.append(frutas_eliminada)"
      ],
      "metadata": {
        "id": "h8KivgeB67Ie"
      },
      "execution_count": null,
      "outputs": []
    },
    {
      "cell_type": "code",
      "source": [
        "frutas"
      ],
      "metadata": {
        "colab": {
          "base_uri": "https://localhost:8080/"
        },
        "id": "gxDFde3E7Bnu",
        "outputId": "56268f34-4e52-4f2a-dc8c-7c31de7d50eb"
      },
      "execution_count": null,
      "outputs": [
        {
          "output_type": "execute_result",
          "data": {
            "text/plain": [
              "['Banano', 'Piña', 'Mango', 'Kiwi', 'Kiwi']"
            ]
          },
          "metadata": {},
          "execution_count": 67
        }
      ]
    },
    {
      "cell_type": "code",
      "source": [
        "nueva_lista = ['A1','A2', 'B1',['B2', 'B3', 'C1', ['C2','D1']]]"
      ],
      "metadata": {
        "id": "JovtNpd67Dik"
      },
      "execution_count": null,
      "outputs": []
    },
    {
      "cell_type": "code",
      "source": [
        "len(nueva_lista)"
      ],
      "metadata": {
        "colab": {
          "base_uri": "https://localhost:8080/"
        },
        "id": "5yYtkxGS7RXh",
        "outputId": "cc8eaa57-e0b4-420d-d5c1-424e700e4239"
      },
      "execution_count": null,
      "outputs": [
        {
          "output_type": "execute_result",
          "data": {
            "text/plain": [
              "4"
            ]
          },
          "metadata": {},
          "execution_count": 69
        }
      ]
    },
    {
      "cell_type": "code",
      "source": [
        "nueva_lista"
      ],
      "metadata": {
        "colab": {
          "base_uri": "https://localhost:8080/"
        },
        "id": "iFEM5i347UkO",
        "outputId": "cb8186ff-8c8a-4cb7-9441-ff3029e7fc97"
      },
      "execution_count": null,
      "outputs": [
        {
          "output_type": "execute_result",
          "data": {
            "text/plain": [
              "['A1', 'A2', 'B1', ['B2', 'B3', 'C1', ['C2', 'D1']]]"
            ]
          },
          "metadata": {},
          "execution_count": 70
        }
      ]
    },
    {
      "cell_type": "code",
      "source": [
        "nueva_lista[3][3].pop(0)"
      ],
      "metadata": {
        "colab": {
          "base_uri": "https://localhost:8080/",
          "height": 38
        },
        "id": "NEYbL2h27Xp6",
        "outputId": "7c029afd-28e8-450c-eb77-bea4d96fc2bd"
      },
      "execution_count": null,
      "outputs": [
        {
          "output_type": "execute_result",
          "data": {
            "text/plain": [
              "'C2'"
            ],
            "application/vnd.google.colaboratory.intrinsic+json": {
              "type": "string"
            }
          },
          "metadata": {},
          "execution_count": 72
        }
      ]
    },
    {
      "cell_type": "code",
      "source": [
        "nueva_lista"
      ],
      "metadata": {
        "colab": {
          "base_uri": "https://localhost:8080/"
        },
        "id": "SE5MdfFh7zAR",
        "outputId": "77f117db-232f-4fb8-c149-9251b3a98cb1"
      },
      "execution_count": null,
      "outputs": [
        {
          "output_type": "execute_result",
          "data": {
            "text/plain": [
              "['A1', 'A2', 'B1', ['B2', 'B3', 'C1', ['D1']]]"
            ]
          },
          "metadata": {},
          "execution_count": 73
        }
      ]
    },
    {
      "cell_type": "code",
      "source": [
        "import numpy as np\n",
        "lista_larga = [np.random.randint(1000) for i in range(50)]"
      ],
      "metadata": {
        "id": "knd_w3wH75v3"
      },
      "execution_count": 2,
      "outputs": []
    },
    {
      "cell_type": "code",
      "source": [
        "lista_larga"
      ],
      "metadata": {
        "colab": {
          "base_uri": "https://localhost:8080/"
        },
        "id": "15rjhUVf8eCU",
        "outputId": "a0fc7cba-442f-4d54-d1ba-f0c651a679f2"
      },
      "execution_count": 3,
      "outputs": [
        {
          "output_type": "execute_result",
          "data": {
            "text/plain": [
              "[991,\n",
              " 640,\n",
              " 155,\n",
              " 763,\n",
              " 393,\n",
              " 880,\n",
              " 260,\n",
              " 8,\n",
              " 205,\n",
              " 462,\n",
              " 379,\n",
              " 281,\n",
              " 625,\n",
              " 337,\n",
              " 182,\n",
              " 312,\n",
              " 998,\n",
              " 181,\n",
              " 129,\n",
              " 477,\n",
              " 646,\n",
              " 218,\n",
              " 6,\n",
              " 762,\n",
              " 540,\n",
              " 926,\n",
              " 346,\n",
              " 760,\n",
              " 372,\n",
              " 106,\n",
              " 696,\n",
              " 410,\n",
              " 16,\n",
              " 384,\n",
              " 125,\n",
              " 717,\n",
              " 218,\n",
              " 893,\n",
              " 531,\n",
              " 248,\n",
              " 715,\n",
              " 582,\n",
              " 845,\n",
              " 895,\n",
              " 168,\n",
              " 495,\n",
              " 898,\n",
              " 376,\n",
              " 403,\n",
              " 304]"
            ]
          },
          "metadata": {},
          "execution_count": 3
        }
      ]
    },
    {
      "cell_type": "code",
      "source": [
        "len(lista_larga) -1"
      ],
      "metadata": {
        "colab": {
          "base_uri": "https://localhost:8080/"
        },
        "id": "VuBqNynO-isO",
        "outputId": "b27c9fcd-5388-448a-f485-6da24140cf15"
      },
      "execution_count": 6,
      "outputs": [
        {
          "output_type": "execute_result",
          "data": {
            "text/plain": [
              "49"
            ]
          },
          "metadata": {},
          "execution_count": 6
        }
      ]
    },
    {
      "cell_type": "code",
      "source": [
        "lista_larga[len(lista_larga) - 1]"
      ],
      "metadata": {
        "colab": {
          "base_uri": "https://localhost:8080/"
        },
        "id": "8doAlu3h82PX",
        "outputId": "f363a3fd-dbd8-4ea6-c531-41ab4aacdd94"
      },
      "execution_count": 4,
      "outputs": [
        {
          "output_type": "execute_result",
          "data": {
            "text/plain": [
              "304"
            ]
          },
          "metadata": {},
          "execution_count": 4
        }
      ]
    },
    {
      "cell_type": "code",
      "source": [
        "lista_larga[-1]"
      ],
      "metadata": {
        "colab": {
          "base_uri": "https://localhost:8080/"
        },
        "id": "ErH2qYlk8frk",
        "outputId": "941884a8-ddb5-40c7-f163-874adcad5f68"
      },
      "execution_count": 5,
      "outputs": [
        {
          "output_type": "execute_result",
          "data": {
            "text/plain": [
              "304"
            ]
          },
          "metadata": {},
          "execution_count": 5
        }
      ]
    },
    {
      "cell_type": "code",
      "source": [
        "frutas = [\"Banano\", \"Mango\", \"Kiwi\"]\n",
        "verduras = [\"Platano\", \"Yuca\", \"Pimenton\"]"
      ],
      "metadata": {
        "id": "_p8zxvem9CL_"
      },
      "execution_count": 1,
      "outputs": []
    },
    {
      "cell_type": "code",
      "source": [
        "legumbreria = frutas + verduras\n",
        "legumbreria"
      ],
      "metadata": {
        "colab": {
          "base_uri": "https://localhost:8080/"
        },
        "id": "quKdv_Ll_VtH",
        "outputId": "078d43cc-95a6-49c0-ccc8-a6bf1dbf1bf5"
      },
      "execution_count": null,
      "outputs": [
        {
          "output_type": "execute_result",
          "data": {
            "text/plain": [
              "['Banano', 'Mango', 'Kiwi', 'Platano', 'Yuca', 'Pimenton']"
            ]
          },
          "metadata": {},
          "execution_count": 91
        }
      ]
    },
    {
      "cell_type": "code",
      "source": [
        "numeros = [1, 10, 5, 3, 4, 9]\n",
        "numeros"
      ],
      "metadata": {
        "colab": {
          "base_uri": "https://localhost:8080/"
        },
        "id": "8xX1X_ns_ZF2",
        "outputId": "2b76e91f-0663-477b-d87c-0d0eda32a5a7"
      },
      "execution_count": null,
      "outputs": [
        {
          "output_type": "execute_result",
          "data": {
            "text/plain": [
              "[1, 10, 5, 3, 4, 9]"
            ]
          },
          "metadata": {},
          "execution_count": 95
        }
      ]
    },
    {
      "cell_type": "code",
      "source": [
        "numeros * 2"
      ],
      "metadata": {
        "colab": {
          "base_uri": "https://localhost:8080/"
        },
        "id": "Fg4Fktnz_rzg",
        "outputId": "fe837dd4-4868-44de-86ad-681523a60387"
      },
      "execution_count": null,
      "outputs": [
        {
          "output_type": "execute_result",
          "data": {
            "text/plain": [
              "[1, 10, 5, 3, 4, 9, 1, 10, 5, 3, 4, 9]"
            ]
          },
          "metadata": {},
          "execution_count": 97
        }
      ]
    },
    {
      "cell_type": "code",
      "source": [
        "frutas = ['Banano', 'Mango', 'Coco']\n",
        "frutas = frutas * 5"
      ],
      "metadata": {
        "id": "QE5smDay_yPW"
      },
      "execution_count": null,
      "outputs": []
    },
    {
      "cell_type": "code",
      "source": [
        "len(frutas)"
      ],
      "metadata": {
        "colab": {
          "base_uri": "https://localhost:8080/"
        },
        "id": "gBbxhTI3Ar5n",
        "outputId": "1e55e70d-ccb5-4651-81cb-bb59b2968fa8"
      },
      "execution_count": null,
      "outputs": [
        {
          "output_type": "execute_result",
          "data": {
            "text/plain": [
              "15"
            ]
          },
          "metadata": {},
          "execution_count": 100
        }
      ]
    },
    {
      "cell_type": "code",
      "source": [
        "frutas"
      ],
      "metadata": {
        "colab": {
          "base_uri": "https://localhost:8080/"
        },
        "id": "kFHGUaeoAxdV",
        "outputId": "5ccb59c2-226a-465e-c144-460e5150f660"
      },
      "execution_count": null,
      "outputs": [
        {
          "output_type": "execute_result",
          "data": {
            "text/plain": [
              "['Banano',\n",
              " 'Mango',\n",
              " 'Coco',\n",
              " 'Banano',\n",
              " 'Mango',\n",
              " 'Coco',\n",
              " 'Banano',\n",
              " 'Mango',\n",
              " 'Coco',\n",
              " 'Banano',\n",
              " 'Mango',\n",
              " 'Coco',\n",
              " 'Banano',\n",
              " 'Mango',\n",
              " 'Coco']"
            ]
          },
          "metadata": {},
          "execution_count": 101
        }
      ]
    },
    {
      "cell_type": "code",
      "source": [
        " colores = ['Rojo', 'Amarillo', 'Verde', 'Fucsia', 'Lila', 'Azul', 'Negro']"
      ],
      "metadata": {
        "id": "SAi6z8LwAyyf"
      },
      "execution_count": 8,
      "outputs": []
    },
    {
      "cell_type": "code",
      "source": [
        "colores"
      ],
      "metadata": {
        "colab": {
          "base_uri": "https://localhost:8080/"
        },
        "id": "iYwUWPR7BVvD",
        "outputId": "ef701791-9779-4498-850b-25e813e1a4b9"
      },
      "execution_count": 9,
      "outputs": [
        {
          "output_type": "execute_result",
          "data": {
            "text/plain": [
              "['Rojo', 'Amarillo', 'Verde', 'Fucsia', 'Lila', 'Azul', 'Negro']"
            ]
          },
          "metadata": {},
          "execution_count": 9
        }
      ]
    },
    {
      "cell_type": "code",
      "source": [
        "colores[1]"
      ],
      "metadata": {
        "colab": {
          "base_uri": "https://localhost:8080/",
          "height": 38
        },
        "id": "h0y6KGFHBWqV",
        "outputId": "fbca208c-be23-4727-aaa3-6def90ac68c7"
      },
      "execution_count": 10,
      "outputs": [
        {
          "output_type": "execute_result",
          "data": {
            "text/plain": [
              "'Amarillo'"
            ],
            "application/vnd.google.colaboratory.intrinsic+json": {
              "type": "string"
            }
          },
          "metadata": {},
          "execution_count": 10
        }
      ]
    },
    {
      "cell_type": "code",
      "source": [
        "colores[-2]"
      ],
      "metadata": {
        "colab": {
          "base_uri": "https://localhost:8080/",
          "height": 38
        },
        "id": "KdXiFmpHBX4i",
        "outputId": "be33f014-3566-4f7f-a9c2-03a6c0fe40d6"
      },
      "execution_count": 11,
      "outputs": [
        {
          "output_type": "execute_result",
          "data": {
            "text/plain": [
              "'Azul'"
            ],
            "application/vnd.google.colaboratory.intrinsic+json": {
              "type": "string"
            }
          },
          "metadata": {},
          "execution_count": 11
        }
      ]
    },
    {
      "cell_type": "code",
      "source": [
        "colores[1:-1] #nombre_lista(posicion inicial : posicion final de la lista)"
      ],
      "metadata": {
        "colab": {
          "base_uri": "https://localhost:8080/"
        },
        "id": "rpLjgAkjBaHh",
        "outputId": "456a9849-47d2-4464-e230-0730d028187d"
      },
      "execution_count": 12,
      "outputs": [
        {
          "output_type": "execute_result",
          "data": {
            "text/plain": [
              "['Amarillo', 'Verde', 'Fucsia', 'Lila', 'Azul']"
            ]
          },
          "metadata": {},
          "execution_count": 12
        }
      ]
    },
    {
      "cell_type": "code",
      "source": [
        "colores"
      ],
      "metadata": {
        "colab": {
          "base_uri": "https://localhost:8080/"
        },
        "id": "0YUnjLzg_dwJ",
        "outputId": "0b5d1790-9b99-4988-f56d-4ebea51fdc30"
      },
      "execution_count": 13,
      "outputs": [
        {
          "output_type": "execute_result",
          "data": {
            "text/plain": [
              "['Rojo', 'Amarillo', 'Verde', 'Fucsia', 'Lila', 'Azul', 'Negro']"
            ]
          },
          "metadata": {},
          "execution_count": 13
        }
      ]
    },
    {
      "cell_type": "code",
      "source": [
        "colores[-1]"
      ],
      "metadata": {
        "colab": {
          "base_uri": "https://localhost:8080/",
          "height": 38
        },
        "id": "KIe87zrCBeDB",
        "outputId": "4714e608-dc12-4d86-df90-8dc75b53fcba"
      },
      "execution_count": null,
      "outputs": [
        {
          "output_type": "execute_result",
          "data": {
            "text/plain": [
              "'Negro'"
            ],
            "application/vnd.google.colaboratory.intrinsic+json": {
              "type": "string"
            }
          },
          "metadata": {},
          "execution_count": 108
        }
      ]
    },
    {
      "cell_type": "code",
      "source": [
        "colores.sort()"
      ],
      "metadata": {
        "id": "n2YmjS2bBj1i"
      },
      "execution_count": 15,
      "outputs": []
    },
    {
      "cell_type": "code",
      "source": [
        "colores"
      ],
      "metadata": {
        "colab": {
          "base_uri": "https://localhost:8080/"
        },
        "id": "DpZDItiS_oFd",
        "outputId": "3d396015-7f2b-4bd6-8fb8-4b120374f653"
      },
      "execution_count": 16,
      "outputs": [
        {
          "output_type": "execute_result",
          "data": {
            "text/plain": [
              "['Amarillo', 'Azul', 'Fucsia', 'Lila', 'Negro', 'Rojo', 'Verde']"
            ]
          },
          "metadata": {},
          "execution_count": 16
        }
      ]
    },
    {
      "cell_type": "code",
      "source": [
        "lista2 = ['Ana', 'Zapata', 'Aña']"
      ],
      "metadata": {
        "id": "HkfnJ7ufCVw0"
      },
      "execution_count": 18,
      "outputs": []
    },
    {
      "cell_type": "code",
      "source": [
        "lista2"
      ],
      "metadata": {
        "colab": {
          "base_uri": "https://localhost:8080/"
        },
        "id": "E0G8pnPdCcQh",
        "outputId": "75f5b524-7f08-486f-d377-0ca74323c9e6"
      },
      "execution_count": 19,
      "outputs": [
        {
          "output_type": "execute_result",
          "data": {
            "text/plain": [
              "['Ana', 'Zapata', 'Aña']"
            ]
          },
          "metadata": {},
          "execution_count": 19
        }
      ]
    },
    {
      "cell_type": "code",
      "source": [
        "lista2.sort()"
      ],
      "metadata": {
        "id": "cfm_EaoYCdqo"
      },
      "execution_count": 20,
      "outputs": []
    },
    {
      "cell_type": "code",
      "source": [
        "lista2"
      ],
      "metadata": {
        "colab": {
          "base_uri": "https://localhost:8080/"
        },
        "id": "tOLE8CiGCiN4",
        "outputId": "e4d1d5b5-8612-4c54-8c20-eb493c7bb75d"
      },
      "execution_count": 21,
      "outputs": [
        {
          "output_type": "execute_result",
          "data": {
            "text/plain": [
              "['Ana', 'Aña', 'Zapata']"
            ]
          },
          "metadata": {},
          "execution_count": 21
        }
      ]
    },
    {
      "cell_type": "code",
      "source": [
        "lista2[::-1]"
      ],
      "metadata": {
        "colab": {
          "base_uri": "https://localhost:8080/"
        },
        "id": "lA0RjZBqAD2S",
        "outputId": "c98a1dd3-6ebc-456c-9d86-1d8837504b68"
      },
      "execution_count": 22,
      "outputs": [
        {
          "output_type": "execute_result",
          "data": {
            "text/plain": [
              "['Zapata', 'Aña', 'Ana']"
            ]
          },
          "metadata": {},
          "execution_count": 22
        }
      ]
    },
    {
      "cell_type": "code",
      "source": [
        "lista2.sort(reverse = False) #tambien se puede con TRUE"
      ],
      "metadata": {
        "id": "JmX_jGoIAJSP"
      },
      "execution_count": 27,
      "outputs": []
    },
    {
      "cell_type": "code",
      "source": [
        "lista2"
      ],
      "metadata": {
        "colab": {
          "base_uri": "https://localhost:8080/"
        },
        "id": "KgudRMg2AOFT",
        "outputId": "1bec4c63-f95c-45e7-e90e-096a50d3b4a0"
      },
      "execution_count": 26,
      "outputs": [
        {
          "output_type": "execute_result",
          "data": {
            "text/plain": [
              "['Ana', 'Aña', 'Zapata']"
            ]
          },
          "metadata": {},
          "execution_count": 26
        }
      ]
    },
    {
      "cell_type": "code",
      "source": [
        "lista2.index('Ana')"
      ],
      "metadata": {
        "colab": {
          "base_uri": "https://localhost:8080/"
        },
        "id": "uj-ey3GHAWEV",
        "outputId": "906de11c-d1fe-402b-a84e-e6234574e66c"
      },
      "execution_count": 28,
      "outputs": [
        {
          "output_type": "execute_result",
          "data": {
            "text/plain": [
              "0"
            ]
          },
          "metadata": {},
          "execution_count": 28
        }
      ]
    },
    {
      "cell_type": "markdown",
      "source": [
        "##CICLOS\n",
        "\n",
        "* Ciclo *For*: Nosotros a priori la contidad de interaciones que vamos a hacer. \n",
        "\n",
        "* Ciclo *While*: Nosotros no conocemos la cantidad de veces que vamos a realizar una accion, la acción se va a ejecutar hasta que se cumpla o no una condicion. "
      ],
      "metadata": {
        "id": "IZfA1zjaEKOI"
      }
    },
    {
      "cell_type": "code",
      "source": [
        "for num in range (1, 12, 2): #rango(incial, final, pasos o incremento  )\n",
        "  print(num) #range [3] que es 2 van de dos en dos"
      ],
      "metadata": {
        "colab": {
          "base_uri": "https://localhost:8080/"
        },
        "id": "c9st8hR3E71v",
        "outputId": "e36aa36b-1840-4836-b056-c5a18690becb"
      },
      "execution_count": 35,
      "outputs": [
        {
          "output_type": "stream",
          "name": "stdout",
          "text": [
            "1\n",
            "3\n",
            "5\n",
            "7\n",
            "9\n",
            "11\n"
          ]
        }
      ]
    },
    {
      "cell_type": "code",
      "source": [
        "frutas = ['banano', 'mango', 'papaya', 'kiwi']\n",
        "print(frutas[0])\n",
        "print(frutas[1])\n",
        "print(frutas[2])\n",
        "print(frutas[3])"
      ],
      "metadata": {
        "colab": {
          "base_uri": "https://localhost:8080/"
        },
        "id": "YjnPsRR7FAEP",
        "outputId": "7b94e679-c474-4d85-c5b3-04a8d059a46a"
      },
      "execution_count": null,
      "outputs": [
        {
          "output_type": "stream",
          "name": "stdout",
          "text": [
            "banano\n",
            "mango\n",
            "papaya\n",
            "kiwi\n"
          ]
        }
      ]
    },
    {
      "cell_type": "code",
      "source": [
        "for fruta in frutas:\n",
        "  print(fruta)"
      ],
      "metadata": {
        "colab": {
          "base_uri": "https://localhost:8080/"
        },
        "id": "oL3MIaFmIaI2",
        "outputId": "fa2f8bcc-9e5b-44e4-c247-21d66570658b"
      },
      "execution_count": null,
      "outputs": [
        {
          "output_type": "stream",
          "name": "stdout",
          "text": [
            "banano\n",
            "mango\n",
            "papaya\n",
            "kiwi\n"
          ]
        }
      ]
    },
    {
      "cell_type": "code",
      "source": [
        "frutas.pop(2)"
      ],
      "metadata": {
        "colab": {
          "base_uri": "https://localhost:8080/",
          "height": 38
        },
        "id": "qMZyEbMLoHBT",
        "outputId": "d71c3544-6dd1-44ba-c4a3-50291fe11f75"
      },
      "execution_count": null,
      "outputs": [
        {
          "output_type": "execute_result",
          "data": {
            "text/plain": [
              "'papaya'"
            ],
            "application/vnd.google.colaboratory.intrinsic+json": {
              "type": "string"
            }
          },
          "metadata": {},
          "execution_count": 11
        }
      ]
    },
    {
      "cell_type": "code",
      "source": [
        "for fruta in frutas:\n",
        "  print(fruta)\n",
        "  if fruta == 'Mango':\n",
        "    break #break o descanso: para terminar el comando"
      ],
      "metadata": {
        "colab": {
          "base_uri": "https://localhost:8080/"
        },
        "id": "W95WHDZRI1T3",
        "outputId": "daee1f52-5181-4a95-eb15-83b73a7df972"
      },
      "execution_count": null,
      "outputs": [
        {
          "output_type": "stream",
          "name": "stdout",
          "text": [
            "banano\n",
            "mango\n",
            "kiwi\n"
          ]
        }
      ]
    },
    {
      "cell_type": "code",
      "source": [
        "for fruta in frutas[::-1]:\n",
        "  print(fruta)\n",
        "  if fruta == 'Mango':\n",
        "    break"
      ],
      "metadata": {
        "colab": {
          "base_uri": "https://localhost:8080/"
        },
        "id": "x85CAFKlKyD2",
        "outputId": "9611855c-6f5d-4a27-e2d4-56f25f4b7f2b"
      },
      "execution_count": null,
      "outputs": [
        {
          "output_type": "stream",
          "name": "stdout",
          "text": [
            "kiwi\n",
            "mango\n",
            "banano\n"
          ]
        }
      ]
    },
    {
      "cell_type": "code",
      "source": [
        "for color in ['rojo', 'amarillo', 'verde', 'fucsia']:\n",
        "  print(color)\n",
        "  if color == 'amarillo':\n",
        "    break"
      ],
      "metadata": {
        "id": "vGWg2tTMJ3-z",
        "colab": {
          "base_uri": "https://localhost:8080/"
        },
        "outputId": "b021c99e-4080-4660-ad4c-747893921b22"
      },
      "execution_count": 38,
      "outputs": [
        {
          "output_type": "stream",
          "name": "stdout",
          "text": [
            "rojo\n",
            "amarillo\n"
          ]
        }
      ]
    },
    {
      "cell_type": "code",
      "source": [
        "frutas"
      ],
      "metadata": {
        "colab": {
          "base_uri": "https://localhost:8080/"
        },
        "id": "LACB0EFsn_QA",
        "outputId": "9cbcc273-376b-4319-8e44-f5d3d264c5db"
      },
      "execution_count": null,
      "outputs": [
        {
          "output_type": "execute_result",
          "data": {
            "text/plain": [
              "['banano', 'mango', 'kiwi']"
            ]
          },
          "metadata": {},
          "execution_count": 14
        }
      ]
    },
    {
      "cell_type": "code",
      "source": [
        "frutas[::-1]"
      ],
      "metadata": {
        "colab": {
          "base_uri": "https://localhost:8080/"
        },
        "id": "_aSYe7byobPS",
        "outputId": "984dccae-dca9-4064-d5b2-23ddae119d66"
      },
      "execution_count": null,
      "outputs": [
        {
          "output_type": "execute_result",
          "data": {
            "text/plain": [
              "['kiwi', 'mango', 'banano']"
            ]
          },
          "metadata": {},
          "execution_count": 15
        }
      ]
    },
    {
      "cell_type": "code",
      "source": [
        "       col1. col2.    ##Como si fuera en excel\n",
        "fila1.   1.    2\n",
        "fila2.   6.    8 \n",
        "file3.   7.    0\n"
      ],
      "metadata": {
        "colab": {
          "base_uri": "https://localhost:8080/",
          "height": 150
        },
        "id": "xKDruwx6oeI6",
        "outputId": "8892a339-1bbe-45f0-b7f3-7916eb5a969d"
      },
      "execution_count": 39,
      "outputs": [
        {
          "output_type": "error",
          "ename": "SyntaxError",
          "evalue": "ignored",
          "traceback": [
            "\u001b[0;36m  File \u001b[0;32m\"<ipython-input-39-45ec795b4c45>\"\u001b[0;36m, line \u001b[0;32m1\u001b[0m\n\u001b[0;31m    col1. col2.\u001b[0m\n\u001b[0m               ^\u001b[0m\n\u001b[0;31mSyntaxError\u001b[0m\u001b[0;31m:\u001b[0m invalid syntax\n"
          ]
        }
      ]
    },
    {
      "cell_type": "markdown",
      "source": [
        "*\n",
        "**\n",
        "***\n",
        "****"
      ],
      "metadata": {
        "id": "60pVCorRfXT1"
      }
    },
    {
      "cell_type": "code",
      "source": [
        "for fila in [1, 2, 3]:\n",
        "  print(\"\",)\n",
        "  for columna in [1, 2]:\n",
        "   print(\"*\", end = '')\n",
        "    "
      ],
      "metadata": {
        "colab": {
          "base_uri": "https://localhost:8080/"
        },
        "id": "pGz3C_Q4Vv9Z",
        "outputId": "7bb85307-4a4a-4c4e-d357-bd933ba98e8e"
      },
      "execution_count": 45,
      "outputs": [
        {
          "output_type": "stream",
          "name": "stdout",
          "text": [
            "\n",
            "**\n",
            "**\n",
            "**"
          ]
        }
      ]
    },
    {
      "cell_type": "code",
      "source": [
        "for fila in range(0, 15, 1):\n",
        "  print('')\n",
        "  for columna in range(0, fila + 1, 1):\n",
        "    print('*', end = '')"
      ],
      "metadata": {
        "colab": {
          "base_uri": "https://localhost:8080/"
        },
        "id": "rTEMBX-Sf1Ti",
        "outputId": "c2374ab0-bff7-4fc8-c9c8-60980d999f37"
      },
      "execution_count": 49,
      "outputs": [
        {
          "output_type": "stream",
          "name": "stdout",
          "text": [
            "\n",
            "*\n",
            "**\n",
            "***\n",
            "****\n",
            "*****\n",
            "******\n",
            "*******\n",
            "********\n",
            "*********\n",
            "**********\n",
            "***********\n",
            "************\n",
            "*************\n",
            "**************\n",
            "***************"
          ]
        }
      ]
    },
    {
      "cell_type": "code",
      "source": [
        "for fila in range(0, 10, 1):\n",
        "  print(\"\")\n",
        "  for columnas in range(0, 5, 1):\n",
        "      print('*', end = '')\n"
      ],
      "metadata": {
        "id": "I3CwQ6TvoiD7",
        "colab": {
          "base_uri": "https://localhost:8080/"
        },
        "outputId": "577e554d-2af1-432c-d9ad-f4f0c756f602"
      },
      "execution_count": 53,
      "outputs": [
        {
          "output_type": "stream",
          "name": "stdout",
          "text": [
            "\n",
            "*****\n",
            "*****\n",
            "*****\n",
            "*****\n",
            "*****\n",
            "*****\n",
            "*****\n",
            "*****\n",
            "*****\n",
            "*****"
          ]
        }
      ]
    },
    {
      "cell_type": "code",
      "source": [
        "for fila in range(0, 10, 1):\n",
        "  for columna in range(0, fila + 15, 1):\n",
        "    print(\"*\", end = '')\n",
        "  print(\" \")"
      ],
      "metadata": {
        "colab": {
          "base_uri": "https://localhost:8080/"
        },
        "id": "UP2VYQvkjNPz",
        "outputId": "54dc1d83-387c-4d2b-fc6f-5120b55d89e8"
      },
      "execution_count": 56,
      "outputs": [
        {
          "output_type": "stream",
          "name": "stdout",
          "text": [
            "*************** \n",
            "**************** \n",
            "***************** \n",
            "****************** \n",
            "******************* \n",
            "******************** \n",
            "********************* \n",
            "********************** \n",
            "*********************** \n",
            "************************ \n"
          ]
        }
      ]
    },
    {
      "cell_type": "code",
      "source": [],
      "metadata": {
        "id": "NRAAN6lWk0c8"
      },
      "execution_count": null,
      "outputs": []
    }
  ]
}